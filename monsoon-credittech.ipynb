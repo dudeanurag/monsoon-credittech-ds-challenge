{
 "cells": [
  {
   "cell_type": "code",
   "execution_count": 319,
   "id": "8a6f01bf",
   "metadata": {},
   "outputs": [],
   "source": [
    "import numpy as np\n",
    "import pandas as pd\n",
    "import json\n",
    "import random\n",
    "from itertools import chain\n",
    "import matplotlib.pyplot as plt\n",
    "import datetime\n",
    "from sklearn.preprocessing import MinMaxScaler\n",
    "from sklearn.ensemble import RandomForestClassifier\n",
    "from sklearn.metrics import roc_auc_score"
   ]
  },
  {
   "cell_type": "code",
   "execution_count": null,
   "id": "f021dd09",
   "metadata": {},
   "outputs": [],
   "source": []
  },
  {
   "cell_type": "code",
   "execution_count": 12,
   "id": "0ad8e038",
   "metadata": {},
   "outputs": [],
   "source": [
    "train_accounts_str = \"data/train/accounts_data_train.json\"\n",
    "train_enquiry_str = \"data/train/enquiry_data_train.json\"\n",
    "train_flag = \"data/train/train_flag.csv\""
   ]
  },
  {
   "cell_type": "code",
   "execution_count": 29,
   "id": "1445405d",
   "metadata": {},
   "outputs": [],
   "source": [
    "test_accounts_str = \"data/test/accounts_data_test.json\"\n",
    "test_enquiry_str = \"data/test/enquiry_data_test.json\"\n",
    "test_flag = \"data/test/test_flag.csv\""
   ]
  },
  {
   "cell_type": "code",
   "execution_count": 22,
   "id": "99d23092",
   "metadata": {},
   "outputs": [],
   "source": [
    "def load_json_files(path):\n",
    "    \"\"\"\n",
    "    Utility function to load json files as DataFrame\n",
    "    \"\"\"\n",
    "    with open(path) as jsonFile:\n",
    "        data = json.load(jsonFile)\n",
    "        json_df = pd.DataFrame(list(chain.from_iterable(data)))\n",
    "        return json_df"
   ]
  },
  {
   "cell_type": "code",
   "execution_count": 249,
   "id": "47b5b336",
   "metadata": {},
   "outputs": [
    {
     "data": {
      "text/html": [
       "<div>\n",
       "<style scoped>\n",
       "    .dataframe tbody tr th:only-of-type {\n",
       "        vertical-align: middle;\n",
       "    }\n",
       "\n",
       "    .dataframe tbody tr th {\n",
       "        vertical-align: top;\n",
       "    }\n",
       "\n",
       "    .dataframe thead th {\n",
       "        text-align: right;\n",
       "    }\n",
       "</style>\n",
       "<table border=\"1\" class=\"dataframe\">\n",
       "  <thead>\n",
       "    <tr style=\"text-align: right;\">\n",
       "      <th></th>\n",
       "      <th>credit_type</th>\n",
       "      <th>loan_amount</th>\n",
       "      <th>amount_overdue</th>\n",
       "      <th>open_date</th>\n",
       "      <th>closed_date</th>\n",
       "      <th>payment_hist_string</th>\n",
       "      <th>uid</th>\n",
       "    </tr>\n",
       "  </thead>\n",
       "  <tbody>\n",
       "    <tr>\n",
       "      <th>0</th>\n",
       "      <td>Consumer credit</td>\n",
       "      <td>272745.000</td>\n",
       "      <td>0.0</td>\n",
       "      <td>2018-09-22</td>\n",
       "      <td>2020-02-22</td>\n",
       "      <td>0000000000000000000000100000000000000000000000...</td>\n",
       "      <td>AAA09044550</td>\n",
       "    </tr>\n",
       "    <tr>\n",
       "      <th>1</th>\n",
       "      <td>Consumer credit</td>\n",
       "      <td>4500.000</td>\n",
       "      <td>0.0</td>\n",
       "      <td>2018-03-08</td>\n",
       "      <td>2019-07-25</td>\n",
       "      <td>000000000000000014044000000000000000000000000000</td>\n",
       "      <td>AAA09044550</td>\n",
       "    </tr>\n",
       "    <tr>\n",
       "      <th>2</th>\n",
       "      <td>Credit card</td>\n",
       "      <td>80996.445</td>\n",
       "      <td>0.0</td>\n",
       "      <td>2020-06-29</td>\n",
       "      <td>NaN</td>\n",
       "      <td>000000000000000000</td>\n",
       "      <td>AAA10545297</td>\n",
       "    </tr>\n",
       "    <tr>\n",
       "      <th>3</th>\n",
       "      <td>Consumer credit</td>\n",
       "      <td>43771.500</td>\n",
       "      <td>0.0</td>\n",
       "      <td>2020-06-09</td>\n",
       "      <td>2020-09-09</td>\n",
       "      <td>000000000</td>\n",
       "      <td>AAA14112888</td>\n",
       "    </tr>\n",
       "    <tr>\n",
       "      <th>4</th>\n",
       "      <td>Credit card</td>\n",
       "      <td>10480.500</td>\n",
       "      <td>0.0</td>\n",
       "      <td>2014-09-10</td>\n",
       "      <td>NaN</td>\n",
       "      <td>0000000000000000000000000000000000000000000000...</td>\n",
       "      <td>AAA20326915</td>\n",
       "    </tr>\n",
       "  </tbody>\n",
       "</table>\n",
       "</div>"
      ],
      "text/plain": [
       "       credit_type  loan_amount  amount_overdue   open_date closed_date  \\\n",
       "0  Consumer credit   272745.000             0.0  2018-09-22  2020-02-22   \n",
       "1  Consumer credit     4500.000             0.0  2018-03-08  2019-07-25   \n",
       "2      Credit card    80996.445             0.0  2020-06-29         NaN   \n",
       "3  Consumer credit    43771.500             0.0  2020-06-09  2020-09-09   \n",
       "4      Credit card    10480.500             0.0  2014-09-10         NaN   \n",
       "\n",
       "                                 payment_hist_string          uid  \n",
       "0  0000000000000000000000100000000000000000000000...  AAA09044550  \n",
       "1   000000000000000014044000000000000000000000000000  AAA09044550  \n",
       "2                                 000000000000000000  AAA10545297  \n",
       "3                                          000000000  AAA14112888  \n",
       "4  0000000000000000000000000000000000000000000000...  AAA20326915  "
      ]
     },
     "execution_count": 249,
     "metadata": {},
     "output_type": "execute_result"
    }
   ],
   "source": [
    "train_accounts_df = load_json_files(train_accounts_str)\n",
    "train_accounts_df.head()"
   ]
  },
  {
   "cell_type": "code",
   "execution_count": 250,
   "id": "f652808b",
   "metadata": {},
   "outputs": [
    {
     "data": {
      "text/html": [
       "<div>\n",
       "<style scoped>\n",
       "    .dataframe tbody tr th:only-of-type {\n",
       "        vertical-align: middle;\n",
       "    }\n",
       "\n",
       "    .dataframe tbody tr th {\n",
       "        vertical-align: top;\n",
       "    }\n",
       "\n",
       "    .dataframe thead th {\n",
       "        text-align: right;\n",
       "    }\n",
       "</style>\n",
       "<table border=\"1\" class=\"dataframe\">\n",
       "  <thead>\n",
       "    <tr style=\"text-align: right;\">\n",
       "      <th></th>\n",
       "      <th>credit_type</th>\n",
       "      <th>loan_amount</th>\n",
       "      <th>amount_overdue</th>\n",
       "      <th>open_date</th>\n",
       "      <th>closed_date</th>\n",
       "      <th>payment_hist_string</th>\n",
       "      <th>uid</th>\n",
       "    </tr>\n",
       "  </thead>\n",
       "  <tbody>\n",
       "    <tr>\n",
       "      <th>0</th>\n",
       "      <td>Consumer credit</td>\n",
       "      <td>31630.50</td>\n",
       "      <td>0.0</td>\n",
       "      <td>2014-03-30</td>\n",
       "      <td>2014-11-29</td>\n",
       "      <td>000000000000000000000000</td>\n",
       "      <td>AAA14437029</td>\n",
       "    </tr>\n",
       "    <tr>\n",
       "      <th>1</th>\n",
       "      <td>Consumer credit</td>\n",
       "      <td>14613.39</td>\n",
       "      <td>0.0</td>\n",
       "      <td>2014-06-01</td>\n",
       "      <td>2014-11-03</td>\n",
       "      <td>000000000000000</td>\n",
       "      <td>AAA14437029</td>\n",
       "    </tr>\n",
       "    <tr>\n",
       "      <th>2</th>\n",
       "      <td>Credit card</td>\n",
       "      <td>54000.00</td>\n",
       "      <td>0.0</td>\n",
       "      <td>2015-12-13</td>\n",
       "      <td>2019-09-21</td>\n",
       "      <td>0000000000000000000000000000000000000000000000...</td>\n",
       "      <td>AAA14437029</td>\n",
       "    </tr>\n",
       "    <tr>\n",
       "      <th>3</th>\n",
       "      <td>Consumer credit</td>\n",
       "      <td>27076.50</td>\n",
       "      <td>0.0</td>\n",
       "      <td>2015-11-11</td>\n",
       "      <td>2016-11-24</td>\n",
       "      <td>000000000000000000000000000000000000</td>\n",
       "      <td>AAA14437029</td>\n",
       "    </tr>\n",
       "    <tr>\n",
       "      <th>4</th>\n",
       "      <td>Credit card</td>\n",
       "      <td>225000.00</td>\n",
       "      <td>0.0</td>\n",
       "      <td>2017-07-15</td>\n",
       "      <td>2019-11-14</td>\n",
       "      <td>0000000000000000000000000000000000000000000000...</td>\n",
       "      <td>AAA14437029</td>\n",
       "    </tr>\n",
       "  </tbody>\n",
       "</table>\n",
       "</div>"
      ],
      "text/plain": [
       "       credit_type  loan_amount  amount_overdue   open_date closed_date  \\\n",
       "0  Consumer credit     31630.50             0.0  2014-03-30  2014-11-29   \n",
       "1  Consumer credit     14613.39             0.0  2014-06-01  2014-11-03   \n",
       "2      Credit card     54000.00             0.0  2015-12-13  2019-09-21   \n",
       "3  Consumer credit     27076.50             0.0  2015-11-11  2016-11-24   \n",
       "4      Credit card    225000.00             0.0  2017-07-15  2019-11-14   \n",
       "\n",
       "                                 payment_hist_string          uid  \n",
       "0                           000000000000000000000000  AAA14437029  \n",
       "1                                    000000000000000  AAA14437029  \n",
       "2  0000000000000000000000000000000000000000000000...  AAA14437029  \n",
       "3               000000000000000000000000000000000000  AAA14437029  \n",
       "4  0000000000000000000000000000000000000000000000...  AAA14437029  "
      ]
     },
     "execution_count": 250,
     "metadata": {},
     "output_type": "execute_result"
    }
   ],
   "source": [
    "test_accounts_df = load_json_files(test_accounts_str)\n",
    "test_accounts_df.head()"
   ]
  },
  {
   "cell_type": "code",
   "execution_count": 160,
   "id": "26bab944",
   "metadata": {},
   "outputs": [
    {
     "data": {
      "text/html": [
       "<div>\n",
       "<style scoped>\n",
       "    .dataframe tbody tr th:only-of-type {\n",
       "        vertical-align: middle;\n",
       "    }\n",
       "\n",
       "    .dataframe tbody tr th {\n",
       "        vertical-align: top;\n",
       "    }\n",
       "\n",
       "    .dataframe thead th {\n",
       "        text-align: right;\n",
       "    }\n",
       "</style>\n",
       "<table border=\"1\" class=\"dataframe\">\n",
       "  <thead>\n",
       "    <tr style=\"text-align: right;\">\n",
       "      <th></th>\n",
       "      <th>enquiry_type</th>\n",
       "      <th>enquiry_amt</th>\n",
       "      <th>enquiry_date</th>\n",
       "      <th>uid</th>\n",
       "    </tr>\n",
       "  </thead>\n",
       "  <tbody>\n",
       "    <tr>\n",
       "      <th>0</th>\n",
       "      <td>Interbank credit</td>\n",
       "      <td>168839</td>\n",
       "      <td>2020-11-08</td>\n",
       "      <td>AAA08065248</td>\n",
       "    </tr>\n",
       "    <tr>\n",
       "      <th>1</th>\n",
       "      <td>Mobile operator loan</td>\n",
       "      <td>268392</td>\n",
       "      <td>2020-09-20</td>\n",
       "      <td>AAA08065248</td>\n",
       "    </tr>\n",
       "    <tr>\n",
       "      <th>2</th>\n",
       "      <td>Mobile operator loan</td>\n",
       "      <td>36082</td>\n",
       "      <td>2020-06-19</td>\n",
       "      <td>AAA08065248</td>\n",
       "    </tr>\n",
       "    <tr>\n",
       "      <th>3</th>\n",
       "      <td>Interbank credit</td>\n",
       "      <td>180467</td>\n",
       "      <td>2019-10-22</td>\n",
       "      <td>AAA08065248</td>\n",
       "    </tr>\n",
       "    <tr>\n",
       "      <th>4</th>\n",
       "      <td>Cash loan (non-earmarked)</td>\n",
       "      <td>227459</td>\n",
       "      <td>2020-05-24</td>\n",
       "      <td>AAA08065248</td>\n",
       "    </tr>\n",
       "  </tbody>\n",
       "</table>\n",
       "</div>"
      ],
      "text/plain": [
       "                enquiry_type  enquiry_amt enquiry_date          uid\n",
       "0           Interbank credit       168839   2020-11-08  AAA08065248\n",
       "1       Mobile operator loan       268392   2020-09-20  AAA08065248\n",
       "2       Mobile operator loan        36082   2020-06-19  AAA08065248\n",
       "3           Interbank credit       180467   2019-10-22  AAA08065248\n",
       "4  Cash loan (non-earmarked)       227459   2020-05-24  AAA08065248"
      ]
     },
     "execution_count": 160,
     "metadata": {},
     "output_type": "execute_result"
    }
   ],
   "source": [
    "train_enquiry_df = load_json_files(train_enquiry_str)\n",
    "train_enquiry_df.head()"
   ]
  },
  {
   "cell_type": "code",
   "execution_count": 31,
   "id": "da20f16c",
   "metadata": {},
   "outputs": [
    {
     "data": {
      "text/html": [
       "<div>\n",
       "<style scoped>\n",
       "    .dataframe tbody tr th:only-of-type {\n",
       "        vertical-align: middle;\n",
       "    }\n",
       "\n",
       "    .dataframe tbody tr th {\n",
       "        vertical-align: top;\n",
       "    }\n",
       "\n",
       "    .dataframe thead th {\n",
       "        text-align: right;\n",
       "    }\n",
       "</style>\n",
       "<table border=\"1\" class=\"dataframe\">\n",
       "  <thead>\n",
       "    <tr style=\"text-align: right;\">\n",
       "      <th></th>\n",
       "      <th>enquiry_type</th>\n",
       "      <th>enquiry_amt</th>\n",
       "      <th>enquiry_date</th>\n",
       "      <th>uid</th>\n",
       "    </tr>\n",
       "  </thead>\n",
       "  <tbody>\n",
       "    <tr>\n",
       "      <th>0</th>\n",
       "      <td>Car loan</td>\n",
       "      <td>143000</td>\n",
       "      <td>2020-12-13</td>\n",
       "      <td>AAA02107680</td>\n",
       "    </tr>\n",
       "    <tr>\n",
       "      <th>1</th>\n",
       "      <td>Real estate loan</td>\n",
       "      <td>174000</td>\n",
       "      <td>2020-12-01</td>\n",
       "      <td>AAA14437029</td>\n",
       "    </tr>\n",
       "    <tr>\n",
       "      <th>2</th>\n",
       "      <td>Loan for working capital replenishment</td>\n",
       "      <td>65000</td>\n",
       "      <td>2019-07-01</td>\n",
       "      <td>AAA14437029</td>\n",
       "    </tr>\n",
       "    <tr>\n",
       "      <th>3</th>\n",
       "      <td>Loan for working capital replenishment</td>\n",
       "      <td>118000</td>\n",
       "      <td>2020-08-05</td>\n",
       "      <td>AAA14437029</td>\n",
       "    </tr>\n",
       "    <tr>\n",
       "      <th>4</th>\n",
       "      <td>Car loan</td>\n",
       "      <td>12000</td>\n",
       "      <td>2020-02-28</td>\n",
       "      <td>AAA14437029</td>\n",
       "    </tr>\n",
       "  </tbody>\n",
       "</table>\n",
       "</div>"
      ],
      "text/plain": [
       "                             enquiry_type  enquiry_amt enquiry_date  \\\n",
       "0                                Car loan       143000   2020-12-13   \n",
       "1                        Real estate loan       174000   2020-12-01   \n",
       "2  Loan for working capital replenishment        65000   2019-07-01   \n",
       "3  Loan for working capital replenishment       118000   2020-08-05   \n",
       "4                                Car loan        12000   2020-02-28   \n",
       "\n",
       "           uid  \n",
       "0  AAA02107680  \n",
       "1  AAA14437029  \n",
       "2  AAA14437029  \n",
       "3  AAA14437029  \n",
       "4  AAA14437029  "
      ]
     },
     "execution_count": 31,
     "metadata": {},
     "output_type": "execute_result"
    }
   ],
   "source": [
    "test_enquiry_df = load_json_files(test_enquiry_str)\n",
    "test_enquiry_df.head()"
   ]
  },
  {
   "cell_type": "code",
   "execution_count": 27,
   "id": "f239aaa9",
   "metadata": {},
   "outputs": [
    {
     "data": {
      "text/html": [
       "<div>\n",
       "<style scoped>\n",
       "    .dataframe tbody tr th:only-of-type {\n",
       "        vertical-align: middle;\n",
       "    }\n",
       "\n",
       "    .dataframe tbody tr th {\n",
       "        vertical-align: top;\n",
       "    }\n",
       "\n",
       "    .dataframe thead th {\n",
       "        text-align: right;\n",
       "    }\n",
       "</style>\n",
       "<table border=\"1\" class=\"dataframe\">\n",
       "  <thead>\n",
       "    <tr style=\"text-align: right;\">\n",
       "      <th></th>\n",
       "      <th>uid</th>\n",
       "      <th>NAME_CONTRACT_TYPE</th>\n",
       "      <th>TARGET</th>\n",
       "    </tr>\n",
       "  </thead>\n",
       "  <tbody>\n",
       "    <tr>\n",
       "      <th>0</th>\n",
       "      <td>XDA69787158</td>\n",
       "      <td>Cash loans</td>\n",
       "      <td>0</td>\n",
       "    </tr>\n",
       "    <tr>\n",
       "      <th>1</th>\n",
       "      <td>BSE47789733</td>\n",
       "      <td>Cash loans</td>\n",
       "      <td>0</td>\n",
       "    </tr>\n",
       "    <tr>\n",
       "      <th>2</th>\n",
       "      <td>NTJ92213825</td>\n",
       "      <td>Cash loans</td>\n",
       "      <td>0</td>\n",
       "    </tr>\n",
       "    <tr>\n",
       "      <th>3</th>\n",
       "      <td>TCQ47571695</td>\n",
       "      <td>Cash loans</td>\n",
       "      <td>0</td>\n",
       "    </tr>\n",
       "    <tr>\n",
       "      <th>4</th>\n",
       "      <td>WJZ68772744</td>\n",
       "      <td>Cash loans</td>\n",
       "      <td>0</td>\n",
       "    </tr>\n",
       "  </tbody>\n",
       "</table>\n",
       "</div>"
      ],
      "text/plain": [
       "           uid NAME_CONTRACT_TYPE  TARGET\n",
       "0  XDA69787158         Cash loans       0\n",
       "1  BSE47789733         Cash loans       0\n",
       "2  NTJ92213825         Cash loans       0\n",
       "3  TCQ47571695         Cash loans       0\n",
       "4  WJZ68772744         Cash loans       0"
      ]
     },
     "execution_count": 27,
     "metadata": {},
     "output_type": "execute_result"
    }
   ],
   "source": [
    "train_flag_df = pd.read_csv(train_flag)\n",
    "train_flag_df.head()"
   ]
  },
  {
   "cell_type": "code",
   "execution_count": 32,
   "id": "c2607f14",
   "metadata": {},
   "outputs": [
    {
     "data": {
      "text/html": [
       "<div>\n",
       "<style scoped>\n",
       "    .dataframe tbody tr th:only-of-type {\n",
       "        vertical-align: middle;\n",
       "    }\n",
       "\n",
       "    .dataframe tbody tr th {\n",
       "        vertical-align: top;\n",
       "    }\n",
       "\n",
       "    .dataframe thead th {\n",
       "        text-align: right;\n",
       "    }\n",
       "</style>\n",
       "<table border=\"1\" class=\"dataframe\">\n",
       "  <thead>\n",
       "    <tr style=\"text-align: right;\">\n",
       "      <th></th>\n",
       "      <th>uid</th>\n",
       "      <th>NAME_CONTRACT_TYPE</th>\n",
       "    </tr>\n",
       "  </thead>\n",
       "  <tbody>\n",
       "    <tr>\n",
       "      <th>0</th>\n",
       "      <td>CMO22835242</td>\n",
       "      <td>Cash loans</td>\n",
       "    </tr>\n",
       "    <tr>\n",
       "      <th>1</th>\n",
       "      <td>MRJ34316727</td>\n",
       "      <td>Cash loans</td>\n",
       "    </tr>\n",
       "    <tr>\n",
       "      <th>2</th>\n",
       "      <td>UAV00534378</td>\n",
       "      <td>Cash loans</td>\n",
       "    </tr>\n",
       "    <tr>\n",
       "      <th>3</th>\n",
       "      <td>IPQ08190402</td>\n",
       "      <td>Cash loans</td>\n",
       "    </tr>\n",
       "    <tr>\n",
       "      <th>4</th>\n",
       "      <td>NQN84331006</td>\n",
       "      <td>Cash loans</td>\n",
       "    </tr>\n",
       "  </tbody>\n",
       "</table>\n",
       "</div>"
      ],
      "text/plain": [
       "           uid NAME_CONTRACT_TYPE\n",
       "0  CMO22835242         Cash loans\n",
       "1  MRJ34316727         Cash loans\n",
       "2  UAV00534378         Cash loans\n",
       "3  IPQ08190402         Cash loans\n",
       "4  NQN84331006         Cash loans"
      ]
     },
     "execution_count": 32,
     "metadata": {},
     "output_type": "execute_result"
    }
   ],
   "source": [
    "test_flag_df = pd.read_csv(test_flag)\n",
    "test_flag_df.head()"
   ]
  },
  {
   "cell_type": "markdown",
   "id": "f3011c52",
   "metadata": {},
   "source": [
    "## Data Preprocessing"
   ]
  },
  {
   "cell_type": "markdown",
   "id": "3de92981",
   "metadata": {},
   "source": [
    "### For Flag dataframe"
   ]
  },
  {
   "cell_type": "code",
   "execution_count": 94,
   "id": "646aae0e",
   "metadata": {},
   "outputs": [
    {
     "data": {
      "text/html": [
       "<div>\n",
       "<style scoped>\n",
       "    .dataframe tbody tr th:only-of-type {\n",
       "        vertical-align: middle;\n",
       "    }\n",
       "\n",
       "    .dataframe tbody tr th {\n",
       "        vertical-align: top;\n",
       "    }\n",
       "\n",
       "    .dataframe thead th {\n",
       "        text-align: right;\n",
       "    }\n",
       "</style>\n",
       "<table border=\"1\" class=\"dataframe\">\n",
       "  <thead>\n",
       "    <tr style=\"text-align: right;\">\n",
       "      <th></th>\n",
       "      <th>uid</th>\n",
       "      <th>NAME_CONTRACT_TYPE</th>\n",
       "      <th>TARGET</th>\n",
       "    </tr>\n",
       "  </thead>\n",
       "  <tbody>\n",
       "    <tr>\n",
       "      <th>0</th>\n",
       "      <td>XDA69787158</td>\n",
       "      <td>Cash loans</td>\n",
       "      <td>0</td>\n",
       "    </tr>\n",
       "    <tr>\n",
       "      <th>1</th>\n",
       "      <td>BSE47789733</td>\n",
       "      <td>Cash loans</td>\n",
       "      <td>0</td>\n",
       "    </tr>\n",
       "    <tr>\n",
       "      <th>2</th>\n",
       "      <td>NTJ92213825</td>\n",
       "      <td>Cash loans</td>\n",
       "      <td>0</td>\n",
       "    </tr>\n",
       "    <tr>\n",
       "      <th>3</th>\n",
       "      <td>TCQ47571695</td>\n",
       "      <td>Cash loans</td>\n",
       "      <td>0</td>\n",
       "    </tr>\n",
       "    <tr>\n",
       "      <th>4</th>\n",
       "      <td>WJZ68772744</td>\n",
       "      <td>Cash loans</td>\n",
       "      <td>0</td>\n",
       "    </tr>\n",
       "  </tbody>\n",
       "</table>\n",
       "</div>"
      ],
      "text/plain": [
       "           uid NAME_CONTRACT_TYPE  TARGET\n",
       "0  XDA69787158         Cash loans       0\n",
       "1  BSE47789733         Cash loans       0\n",
       "2  NTJ92213825         Cash loans       0\n",
       "3  TCQ47571695         Cash loans       0\n",
       "4  WJZ68772744         Cash loans       0"
      ]
     },
     "execution_count": 94,
     "metadata": {},
     "output_type": "execute_result"
    }
   ],
   "source": [
    "train_flag_df.head()"
   ]
  },
  {
   "cell_type": "code",
   "execution_count": 110,
   "id": "c2109b40",
   "metadata": {},
   "outputs": [
    {
     "data": {
      "text/html": [
       "<div>\n",
       "<style scoped>\n",
       "    .dataframe tbody tr th:only-of-type {\n",
       "        vertical-align: middle;\n",
       "    }\n",
       "\n",
       "    .dataframe tbody tr th {\n",
       "        vertical-align: top;\n",
       "    }\n",
       "\n",
       "    .dataframe thead th {\n",
       "        text-align: right;\n",
       "    }\n",
       "</style>\n",
       "<table border=\"1\" class=\"dataframe\">\n",
       "  <thead>\n",
       "    <tr style=\"text-align: right;\">\n",
       "      <th></th>\n",
       "      <th>uid</th>\n",
       "      <th>NAME_CONTRACT_TYPE</th>\n",
       "    </tr>\n",
       "  </thead>\n",
       "  <tbody>\n",
       "    <tr>\n",
       "      <th>0</th>\n",
       "      <td>CMO22835242</td>\n",
       "      <td>Cash loans</td>\n",
       "    </tr>\n",
       "    <tr>\n",
       "      <th>1</th>\n",
       "      <td>MRJ34316727</td>\n",
       "      <td>Cash loans</td>\n",
       "    </tr>\n",
       "    <tr>\n",
       "      <th>2</th>\n",
       "      <td>UAV00534378</td>\n",
       "      <td>Cash loans</td>\n",
       "    </tr>\n",
       "    <tr>\n",
       "      <th>3</th>\n",
       "      <td>IPQ08190402</td>\n",
       "      <td>Cash loans</td>\n",
       "    </tr>\n",
       "    <tr>\n",
       "      <th>4</th>\n",
       "      <td>NQN84331006</td>\n",
       "      <td>Cash loans</td>\n",
       "    </tr>\n",
       "  </tbody>\n",
       "</table>\n",
       "</div>"
      ],
      "text/plain": [
       "           uid NAME_CONTRACT_TYPE\n",
       "0  CMO22835242         Cash loans\n",
       "1  MRJ34316727         Cash loans\n",
       "2  UAV00534378         Cash loans\n",
       "3  IPQ08190402         Cash loans\n",
       "4  NQN84331006         Cash loans"
      ]
     },
     "execution_count": 110,
     "metadata": {},
     "output_type": "execute_result"
    }
   ],
   "source": [
    "test_flag_df.head()"
   ]
  },
  {
   "cell_type": "markdown",
   "id": "4b1b41d3",
   "metadata": {},
   "source": [
    "#### Checking for `Null` values"
   ]
  },
  {
   "cell_type": "code",
   "execution_count": 92,
   "id": "e65536b4",
   "metadata": {},
   "outputs": [
    {
     "data": {
      "text/plain": [
       "uid                   0\n",
       "NAME_CONTRACT_TYPE    0\n",
       "TARGET                0\n",
       "dtype: int64"
      ]
     },
     "execution_count": 92,
     "metadata": {},
     "output_type": "execute_result"
    }
   ],
   "source": [
    "train_flag_df.isnull().sum(axis=0)"
   ]
  },
  {
   "cell_type": "code",
   "execution_count": 93,
   "id": "849c78fc",
   "metadata": {},
   "outputs": [
    {
     "data": {
      "text/plain": [
       "uid                   0\n",
       "NAME_CONTRACT_TYPE    0\n",
       "dtype: int64"
      ]
     },
     "execution_count": 93,
     "metadata": {},
     "output_type": "execute_result"
    }
   ],
   "source": [
    "test_flag_df.isnull().sum(axis=0)"
   ]
  },
  {
   "cell_type": "markdown",
   "id": "574ba1cc",
   "metadata": {},
   "source": [
    "So there are no null values in `flag` dataframe"
   ]
  },
  {
   "cell_type": "markdown",
   "id": "3ca393d1",
   "metadata": {},
   "source": [
    "#### Checking for duplicate entries for a user"
   ]
  },
  {
   "cell_type": "code",
   "execution_count": 102,
   "id": "5abaf20d",
   "metadata": {},
   "outputs": [
    {
     "name": "stdout",
     "output_type": "stream",
     "text": [
      "Total samples in train_flag: 261383\n",
      "Total samples in test_flag: 46127\n"
     ]
    }
   ],
   "source": [
    "train_flag_len = len(train_flag_df)\n",
    "test_flag_len = len(test_flag_df)\n",
    "\n",
    "print(f\"Total samples in train_flag: {train_flag_len}\")\n",
    "print(f\"Total samples in test_flag: {test_flag_len}\")"
   ]
  },
  {
   "cell_type": "code",
   "execution_count": 106,
   "id": "18b0928d",
   "metadata": {},
   "outputs": [
    {
     "name": "stdout",
     "output_type": "stream",
     "text": [
      "Number of unique users in train_flag: 261383\n",
      "Number of unique users in test_flag: 46127\n"
     ]
    }
   ],
   "source": [
    "print(f\"Number of unique users in train_flag: {len(train_flag_df.uid.unique())}\")\n",
    "print(f\"Number of unique users in test_flag: {len(test_flag_df.uid.unique())}\")"
   ]
  },
  {
   "cell_type": "markdown",
   "id": "32dd562d",
   "metadata": {},
   "source": [
    "So every user has a single entry in `flag` dataframe"
   ]
  },
  {
   "cell_type": "markdown",
   "id": "27b7d45f",
   "metadata": {},
   "source": [
    "#### Type of loans in `flag` dataframe"
   ]
  },
  {
   "cell_type": "code",
   "execution_count": 95,
   "id": "f40e91d4",
   "metadata": {},
   "outputs": [
    {
     "data": {
      "text/plain": [
       "array(['Cash loans', 'Revolving loans'], dtype=object)"
      ]
     },
     "execution_count": 95,
     "metadata": {},
     "output_type": "execute_result"
    }
   ],
   "source": [
    "train_flag_df.NAME_CONTRACT_TYPE.unique()"
   ]
  },
  {
   "cell_type": "code",
   "execution_count": 244,
   "id": "d4e74357",
   "metadata": {},
   "outputs": [
    {
     "data": {
      "text/plain": [
       "array(['Cash loans', 'Revolving loans'], dtype=object)"
      ]
     },
     "execution_count": 244,
     "metadata": {},
     "output_type": "execute_result"
    }
   ],
   "source": [
    "test_flag_df.NAME_CONTRACT_TYPE.unique()"
   ]
  },
  {
   "cell_type": "markdown",
   "id": "5f0d5806",
   "metadata": {},
   "source": [
    "So there are only two possible type of loans"
   ]
  },
  {
   "cell_type": "code",
   "execution_count": 96,
   "id": "63784f6e",
   "metadata": {},
   "outputs": [
    {
     "data": {
      "text/plain": [
       "Cash loans         236524\n",
       "Revolving loans     24859\n",
       "Name: NAME_CONTRACT_TYPE, dtype: int64"
      ]
     },
     "execution_count": 96,
     "metadata": {},
     "output_type": "execute_result"
    }
   ],
   "source": [
    "train_flag_df.NAME_CONTRACT_TYPE.value_counts()"
   ]
  },
  {
   "cell_type": "code",
   "execution_count": 107,
   "id": "7a954ffd",
   "metadata": {},
   "outputs": [
    {
     "data": {
      "text/plain": [
       "Cash loans         41707\n",
       "Revolving loans     4420\n",
       "Name: NAME_CONTRACT_TYPE, dtype: int64"
      ]
     },
     "execution_count": 107,
     "metadata": {},
     "output_type": "execute_result"
    }
   ],
   "source": [
    "test_flag_df.NAME_CONTRACT_TYPE.value_counts()"
   ]
  },
  {
   "cell_type": "markdown",
   "id": "1c4a413d",
   "metadata": {},
   "source": [
    "So most of the loans are of type `Cash loans`"
   ]
  },
  {
   "cell_type": "code",
   "execution_count": 100,
   "id": "ed3e8fea",
   "metadata": {},
   "outputs": [
    {
     "data": {
      "text/plain": [
       "<matplotlib.legend.Legend at 0x26d9143d0>"
      ]
     },
     "execution_count": 100,
     "metadata": {},
     "output_type": "execute_result"
    },
    {
     "data": {
      "image/png": "[encoded data removed]",
      "text/plain": [
       "<Figure size 640x480 with 1 Axes>"
      ]
     },
     "metadata": {},
     "output_type": "display_data"
    }
   ],
   "source": [
    "good_loan = train_flag_df[train_flag_df.TARGET == 0].NAME_CONTRACT_TYPE\n",
    "bad_loan = train_flag_df[train_flag_df.TARGET == 1].NAME_CONTRACT_TYPE\n",
    "\n",
    "plt.hist([good_loan, bad_loan], label=(\"Good Loan\", \"Bad Loan\"))\n",
    "plt.xlabel(\"Contract Type\")\n",
    "plt.ylabel(\"Number of Users\")\n",
    "plt.legend()"
   ]
  },
  {
   "cell_type": "code",
   "execution_count": 245,
   "id": "710c4ef9",
   "metadata": {},
   "outputs": [],
   "source": [
    "train_flag_df = pd.get_dummies(train_flag_df, columns = ['NAME_CONTRACT_TYPE'], prefix='type')"
   ]
  },
  {
   "cell_type": "code",
   "execution_count": 246,
   "id": "c68e41b1",
   "metadata": {},
   "outputs": [],
   "source": [
    "test_flag_df = pd.get_dummies(test_flag_df, columns = ['NAME_CONTRACT_TYPE'], prefix='type')"
   ]
  },
  {
   "cell_type": "code",
   "execution_count": 247,
   "id": "db2f3814",
   "metadata": {},
   "outputs": [
    {
     "data": {
      "text/html": [
       "<div>\n",
       "<style scoped>\n",
       "    .dataframe tbody tr th:only-of-type {\n",
       "        vertical-align: middle;\n",
       "    }\n",
       "\n",
       "    .dataframe tbody tr th {\n",
       "        vertical-align: top;\n",
       "    }\n",
       "\n",
       "    .dataframe thead th {\n",
       "        text-align: right;\n",
       "    }\n",
       "</style>\n",
       "<table border=\"1\" class=\"dataframe\">\n",
       "  <thead>\n",
       "    <tr style=\"text-align: right;\">\n",
       "      <th></th>\n",
       "      <th>uid</th>\n",
       "      <th>TARGET</th>\n",
       "      <th>type_Cash loans</th>\n",
       "      <th>type_Revolving loans</th>\n",
       "    </tr>\n",
       "  </thead>\n",
       "  <tbody>\n",
       "    <tr>\n",
       "      <th>0</th>\n",
       "      <td>XDA69787158</td>\n",
       "      <td>0</td>\n",
       "      <td>1</td>\n",
       "      <td>0</td>\n",
       "    </tr>\n",
       "    <tr>\n",
       "      <th>1</th>\n",
       "      <td>BSE47789733</td>\n",
       "      <td>0</td>\n",
       "      <td>1</td>\n",
       "      <td>0</td>\n",
       "    </tr>\n",
       "    <tr>\n",
       "      <th>2</th>\n",
       "      <td>NTJ92213825</td>\n",
       "      <td>0</td>\n",
       "      <td>1</td>\n",
       "      <td>0</td>\n",
       "    </tr>\n",
       "    <tr>\n",
       "      <th>3</th>\n",
       "      <td>TCQ47571695</td>\n",
       "      <td>0</td>\n",
       "      <td>1</td>\n",
       "      <td>0</td>\n",
       "    </tr>\n",
       "    <tr>\n",
       "      <th>4</th>\n",
       "      <td>WJZ68772744</td>\n",
       "      <td>0</td>\n",
       "      <td>1</td>\n",
       "      <td>0</td>\n",
       "    </tr>\n",
       "  </tbody>\n",
       "</table>\n",
       "</div>"
      ],
      "text/plain": [
       "           uid  TARGET  type_Cash loans  type_Revolving loans\n",
       "0  XDA69787158       0                1                     0\n",
       "1  BSE47789733       0                1                     0\n",
       "2  NTJ92213825       0                1                     0\n",
       "3  TCQ47571695       0                1                     0\n",
       "4  WJZ68772744       0                1                     0"
      ]
     },
     "execution_count": 247,
     "metadata": {},
     "output_type": "execute_result"
    }
   ],
   "source": [
    "train_flag_df.head()"
   ]
  },
  {
   "cell_type": "markdown",
   "id": "0d6ce8c4",
   "metadata": {},
   "source": [
    "### For Enquiry dataframe"
   ]
  },
  {
   "cell_type": "code",
   "execution_count": 109,
   "id": "2d22f3c1",
   "metadata": {},
   "outputs": [
    {
     "data": {
      "text/html": [
       "<div>\n",
       "<style scoped>\n",
       "    .dataframe tbody tr th:only-of-type {\n",
       "        vertical-align: middle;\n",
       "    }\n",
       "\n",
       "    .dataframe tbody tr th {\n",
       "        vertical-align: top;\n",
       "    }\n",
       "\n",
       "    .dataframe thead th {\n",
       "        text-align: right;\n",
       "    }\n",
       "</style>\n",
       "<table border=\"1\" class=\"dataframe\">\n",
       "  <thead>\n",
       "    <tr style=\"text-align: right;\">\n",
       "      <th></th>\n",
       "      <th>enquiry_type</th>\n",
       "      <th>enquiry_amt</th>\n",
       "      <th>enquiry_date</th>\n",
       "      <th>uid</th>\n",
       "    </tr>\n",
       "  </thead>\n",
       "  <tbody>\n",
       "    <tr>\n",
       "      <th>0</th>\n",
       "      <td>Interbank credit</td>\n",
       "      <td>168839</td>\n",
       "      <td>2020-11-08</td>\n",
       "      <td>AAA08065248</td>\n",
       "    </tr>\n",
       "    <tr>\n",
       "      <th>1</th>\n",
       "      <td>Mobile operator loan</td>\n",
       "      <td>268392</td>\n",
       "      <td>2020-09-20</td>\n",
       "      <td>AAA08065248</td>\n",
       "    </tr>\n",
       "    <tr>\n",
       "      <th>2</th>\n",
       "      <td>Mobile operator loan</td>\n",
       "      <td>36082</td>\n",
       "      <td>2020-06-19</td>\n",
       "      <td>AAA08065248</td>\n",
       "    </tr>\n",
       "    <tr>\n",
       "      <th>3</th>\n",
       "      <td>Interbank credit</td>\n",
       "      <td>180467</td>\n",
       "      <td>2019-10-22</td>\n",
       "      <td>AAA08065248</td>\n",
       "    </tr>\n",
       "    <tr>\n",
       "      <th>4</th>\n",
       "      <td>Cash loan (non-earmarked)</td>\n",
       "      <td>227459</td>\n",
       "      <td>2020-05-24</td>\n",
       "      <td>AAA08065248</td>\n",
       "    </tr>\n",
       "  </tbody>\n",
       "</table>\n",
       "</div>"
      ],
      "text/plain": [
       "                enquiry_type  enquiry_amt enquiry_date          uid\n",
       "0           Interbank credit       168839   2020-11-08  AAA08065248\n",
       "1       Mobile operator loan       268392   2020-09-20  AAA08065248\n",
       "2       Mobile operator loan        36082   2020-06-19  AAA08065248\n",
       "3           Interbank credit       180467   2019-10-22  AAA08065248\n",
       "4  Cash loan (non-earmarked)       227459   2020-05-24  AAA08065248"
      ]
     },
     "execution_count": 109,
     "metadata": {},
     "output_type": "execute_result"
    }
   ],
   "source": [
    "train_enquiry_df.head()"
   ]
  },
  {
   "cell_type": "code",
   "execution_count": 111,
   "id": "eda7780f",
   "metadata": {},
   "outputs": [
    {
     "data": {
      "text/html": [
       "<div>\n",
       "<style scoped>\n",
       "    .dataframe tbody tr th:only-of-type {\n",
       "        vertical-align: middle;\n",
       "    }\n",
       "\n",
       "    .dataframe tbody tr th {\n",
       "        vertical-align: top;\n",
       "    }\n",
       "\n",
       "    .dataframe thead th {\n",
       "        text-align: right;\n",
       "    }\n",
       "</style>\n",
       "<table border=\"1\" class=\"dataframe\">\n",
       "  <thead>\n",
       "    <tr style=\"text-align: right;\">\n",
       "      <th></th>\n",
       "      <th>enquiry_type</th>\n",
       "      <th>enquiry_amt</th>\n",
       "      <th>enquiry_date</th>\n",
       "      <th>uid</th>\n",
       "    </tr>\n",
       "  </thead>\n",
       "  <tbody>\n",
       "    <tr>\n",
       "      <th>0</th>\n",
       "      <td>Car loan</td>\n",
       "      <td>143000</td>\n",
       "      <td>2020-12-13</td>\n",
       "      <td>AAA02107680</td>\n",
       "    </tr>\n",
       "    <tr>\n",
       "      <th>1</th>\n",
       "      <td>Real estate loan</td>\n",
       "      <td>174000</td>\n",
       "      <td>2020-12-01</td>\n",
       "      <td>AAA14437029</td>\n",
       "    </tr>\n",
       "    <tr>\n",
       "      <th>2</th>\n",
       "      <td>Loan for working capital replenishment</td>\n",
       "      <td>65000</td>\n",
       "      <td>2019-07-01</td>\n",
       "      <td>AAA14437029</td>\n",
       "    </tr>\n",
       "    <tr>\n",
       "      <th>3</th>\n",
       "      <td>Loan for working capital replenishment</td>\n",
       "      <td>118000</td>\n",
       "      <td>2020-08-05</td>\n",
       "      <td>AAA14437029</td>\n",
       "    </tr>\n",
       "    <tr>\n",
       "      <th>4</th>\n",
       "      <td>Car loan</td>\n",
       "      <td>12000</td>\n",
       "      <td>2020-02-28</td>\n",
       "      <td>AAA14437029</td>\n",
       "    </tr>\n",
       "  </tbody>\n",
       "</table>\n",
       "</div>"
      ],
      "text/plain": [
       "                             enquiry_type  enquiry_amt enquiry_date  \\\n",
       "0                                Car loan       143000   2020-12-13   \n",
       "1                        Real estate loan       174000   2020-12-01   \n",
       "2  Loan for working capital replenishment        65000   2019-07-01   \n",
       "3  Loan for working capital replenishment       118000   2020-08-05   \n",
       "4                                Car loan        12000   2020-02-28   \n",
       "\n",
       "           uid  \n",
       "0  AAA02107680  \n",
       "1  AAA14437029  \n",
       "2  AAA14437029  \n",
       "3  AAA14437029  \n",
       "4  AAA14437029  "
      ]
     },
     "execution_count": 111,
     "metadata": {},
     "output_type": "execute_result"
    }
   ],
   "source": [
    "test_enquiry_df.head()"
   ]
  },
  {
   "cell_type": "markdown",
   "id": "9593cc8b",
   "metadata": {},
   "source": [
    "#### Checking for `Null` values"
   ]
  },
  {
   "cell_type": "code",
   "execution_count": 112,
   "id": "80848503",
   "metadata": {},
   "outputs": [
    {
     "data": {
      "text/plain": [
       "enquiry_type    0\n",
       "enquiry_amt     0\n",
       "enquiry_date    0\n",
       "uid             0\n",
       "dtype: int64"
      ]
     },
     "execution_count": 112,
     "metadata": {},
     "output_type": "execute_result"
    }
   ],
   "source": [
    "# For train dataset\n",
    "train_enquiry_df.isnull().sum()"
   ]
  },
  {
   "cell_type": "code",
   "execution_count": 114,
   "id": "37b36b21",
   "metadata": {},
   "outputs": [
    {
     "data": {
      "text/plain": [
       "enquiry_type    0\n",
       "enquiry_amt     0\n",
       "enquiry_date    0\n",
       "uid             0\n",
       "dtype: int64"
      ]
     },
     "execution_count": 114,
     "metadata": {},
     "output_type": "execute_result"
    }
   ],
   "source": [
    "# For test dataset\n",
    "test_enquiry_df.isnull().sum()"
   ]
  },
  {
   "cell_type": "markdown",
   "id": "2ab47f93",
   "metadata": {},
   "source": [
    "Hence, there are no null values in `enquiry` dataframe"
   ]
  },
  {
   "cell_type": "markdown",
   "id": "593fc645",
   "metadata": {},
   "source": [
    "#### Different type of loan enquiries "
   ]
  },
  {
   "cell_type": "code",
   "execution_count": 115,
   "id": "ec5d9852",
   "metadata": {},
   "outputs": [
    {
     "data": {
      "text/plain": [
       "array(['Interbank credit', 'Mobile operator loan',\n",
       "       'Cash loan (non-earmarked)', 'Mortgage', 'Revolving loans',\n",
       "       'Loan for purchase of shares (margin lending)', 'Cash loans',\n",
       "       'Car loan', 'Another type of loan',\n",
       "       'Loan for the purchase of equipment', 'Real estate loan',\n",
       "       'Credit card', 'Unknown type of loan', 'Microloan',\n",
       "       'Consumer credit', 'Loan for working capital replenishment',\n",
       "       'Loan for business development'], dtype=object)"
      ]
     },
     "execution_count": 115,
     "metadata": {},
     "output_type": "execute_result"
    }
   ],
   "source": [
    "train_enquiry_df.enquiry_type.unique()"
   ]
  },
  {
   "cell_type": "code",
   "execution_count": 116,
   "id": "f8502fbd",
   "metadata": {},
   "outputs": [
    {
     "data": {
      "text/plain": [
       "array(['Car loan', 'Real estate loan',\n",
       "       'Loan for working capital replenishment', 'Unknown type of loan',\n",
       "       'Loan for the purchase of equipment', 'Mortgage',\n",
       "       'Another type of loan', 'Cash loan (non-earmarked)',\n",
       "       'Loan for business development', 'Cash loans', 'Microloan',\n",
       "       'Credit card', 'Consumer credit', 'Revolving loans',\n",
       "       'Mobile operator loan', 'Interbank credit',\n",
       "       'Loan for purchase of shares (margin lending)'], dtype=object)"
      ]
     },
     "execution_count": 116,
     "metadata": {},
     "output_type": "execute_result"
    }
   ],
   "source": [
    "test_enquiry_df.enquiry_type.unique()"
   ]
  },
  {
   "cell_type": "code",
   "execution_count": 120,
   "id": "5300fbcd",
   "metadata": {},
   "outputs": [
    {
     "data": {
      "text/plain": [
       "True"
      ]
     },
     "execution_count": 120,
     "metadata": {},
     "output_type": "execute_result"
    }
   ],
   "source": [
    "set(train_enquiry_df.enquiry_type.unique()) == set(test_enquiry_df.enquiry_type.unique())"
   ]
  },
  {
   "cell_type": "markdown",
   "id": "cb311318",
   "metadata": {},
   "source": [
    "Hence, both train and test sets have same number of type of loans enquiries."
   ]
  },
  {
   "cell_type": "code",
   "execution_count": 118,
   "id": "fc31c4ae",
   "metadata": {},
   "outputs": [
    {
     "data": {
      "text/plain": [
       "Cash loans                                      303108\n",
       "Revolving loans                                 120181\n",
       "Mobile operator loan                             99479\n",
       "Real estate loan                                 99328\n",
       "Microloan                                        99324\n",
       "Unknown type of loan                             99280\n",
       "Loan for purchase of shares (margin lending)     99230\n",
       "Mortgage                                         99216\n",
       "Credit card                                      99208\n",
       "Another type of loan                             99154\n",
       "Loan for the purchase of equipment               99152\n",
       "Interbank credit                                 99063\n",
       "Car loan                                         98994\n",
       "Loan for business development                    98900\n",
       "Cash loan (non-earmarked)                        98831\n",
       "Loan for working capital replenishment           98814\n",
       "Consumer credit                                  98664\n",
       "Name: enquiry_type, dtype: int64"
      ]
     },
     "execution_count": 118,
     "metadata": {},
     "output_type": "execute_result"
    }
   ],
   "source": [
    "train_enquiry_df.enquiry_type.value_counts()"
   ]
  },
  {
   "cell_type": "code",
   "execution_count": 119,
   "id": "4468f664",
   "metadata": {},
   "outputs": [
    {
     "data": {
      "text/plain": [
       "Cash loans                                      53125\n",
       "Revolving loans                                 21168\n",
       "Car loan                                        17894\n",
       "Credit card                                     17701\n",
       "Another type of loan                            17619\n",
       "Real estate loan                                17618\n",
       "Mobile operator loan                            17599\n",
       "Microloan                                       17589\n",
       "Loan for purchase of shares (margin lending)    17575\n",
       "Unknown type of loan                            17524\n",
       "Loan for business development                   17523\n",
       "Loan for working capital replenishment          17511\n",
       "Mortgage                                        17504\n",
       "Cash loan (non-earmarked)                       17467\n",
       "Loan for the purchase of equipment              17467\n",
       "Interbank credit                                17393\n",
       "Consumer credit                                 17385\n",
       "Name: enquiry_type, dtype: int64"
      ]
     },
     "execution_count": 119,
     "metadata": {},
     "output_type": "execute_result"
    }
   ],
   "source": [
    "test_enquiry_df.enquiry_type.value_counts()"
   ]
  },
  {
   "cell_type": "markdown",
   "id": "3c08b576",
   "metadata": {},
   "source": [
    "So most of the loan enquiries are for cash loans or revolving loans"
   ]
  },
  {
   "cell_type": "code",
   "execution_count": null,
   "id": "fbb19c61",
   "metadata": {},
   "outputs": [],
   "source": [
    "get_colors = lambda n: [\"#%06x\" % random.randint(0, 0xFFFFFF) for _ in range(n)]"
   ]
  },
  {
   "cell_type": "code",
   "execution_count": 123,
   "id": "0062c575",
   "metadata": {},
   "outputs": [
    {
     "data": {
      "text/plain": [
       "<AxesSubplot: >"
      ]
     },
     "execution_count": 123,
     "metadata": {},
     "output_type": "execute_result"
    },
    {
     "data": {
      "image/png": "[encoded data removed]",
      "text/plain": [
       "<Figure size 640x480 with 1 Axes>"
      ]
     },
     "metadata": {},
     "output_type": "display_data"
    }
   ],
   "source": [
    "n = len(train_enquiry_df.enquiry_type.unique())\n",
    "train_enquiry_df.enquiry_type.value_counts(dropna=False).plot(kind='bar', color=get_colors(n))"
   ]
  },
  {
   "cell_type": "code",
   "execution_count": 124,
   "id": "8dcdf331",
   "metadata": {},
   "outputs": [
    {
     "data": {
      "text/plain": [
       "<AxesSubplot: >"
      ]
     },
     "execution_count": 124,
     "metadata": {},
     "output_type": "execute_result"
    },
    {
     "data": {
      "image/png": "[encoded data removed]",
      "text/plain": [
       "<Figure size 640x480 with 1 Axes>"
      ]
     },
     "metadata": {},
     "output_type": "display_data"
    }
   ],
   "source": [
    "n = len(test_enquiry_df.enquiry_type.unique())\n",
    "test_enquiry_df.enquiry_type.value_counts(dropna=False).plot(kind='bar', color=get_colors(n))"
   ]
  },
  {
   "cell_type": "code",
   "execution_count": 161,
   "id": "6d000198",
   "metadata": {},
   "outputs": [],
   "source": [
    "train_enquiry_df.enquiry_date = (pd.to_datetime(train_enquiry_df.enquiry_date) - datetime.datetime(1970,1,1)).dt.days"
   ]
  },
  {
   "cell_type": "code",
   "execution_count": 162,
   "id": "01e57406",
   "metadata": {},
   "outputs": [],
   "source": [
    "train_enquiry_df = pd.get_dummies(train_enquiry_df, columns = ['enquiry_type'], prefix='type')"
   ]
  },
  {
   "cell_type": "code",
   "execution_count": 164,
   "id": "30b812ec",
   "metadata": {},
   "outputs": [],
   "source": [
    "test_enquiry_df.enquiry_date = (pd.to_datetime(test_enquiry_df.enquiry_date) - datetime.datetime(1970,1,1)).dt.days"
   ]
  },
  {
   "cell_type": "code",
   "execution_count": 165,
   "id": "e4a25ae2",
   "metadata": {},
   "outputs": [],
   "source": [
    "test_enquiry_df = pd.get_dummies(test_enquiry_df, columns = ['enquiry_type'], prefix='type')"
   ]
  },
  {
   "cell_type": "code",
   "execution_count": null,
   "id": "e32ffce7",
   "metadata": {},
   "outputs": [],
   "source": [
    "scaler = MinMaxScaler()"
   ]
  },
  {
   "cell_type": "code",
   "execution_count": 304,
   "id": "0707a24a",
   "metadata": {},
   "outputs": [],
   "source": [
    "train_enquiry_df[['enquiry_amt', 'enquiry_date']] = scaler.fit_transform(train_enquiry_df[['enquiry_amt', 'enquiry_date']])"
   ]
  },
  {
   "cell_type": "code",
   "execution_count": 305,
   "id": "d91b8fc3",
   "metadata": {},
   "outputs": [],
   "source": [
    "test_enquiry_df[['enquiry_amt', 'enquiry_date']] = scaler.fit_transform(test_enquiry_df[['enquiry_amt', 'enquiry_date']])"
   ]
  },
  {
   "cell_type": "code",
   "execution_count": 306,
   "id": "4e178238",
   "metadata": {},
   "outputs": [
    {
     "data": {
      "text/html": [
       "<div>\n",
       "<style scoped>\n",
       "    .dataframe tbody tr th:only-of-type {\n",
       "        vertical-align: middle;\n",
       "    }\n",
       "\n",
       "    .dataframe tbody tr th {\n",
       "        vertical-align: top;\n",
       "    }\n",
       "\n",
       "    .dataframe thead th {\n",
       "        text-align: right;\n",
       "    }\n",
       "</style>\n",
       "<table border=\"1\" class=\"dataframe\">\n",
       "  <thead>\n",
       "    <tr style=\"text-align: right;\">\n",
       "      <th></th>\n",
       "      <th>enquiry_amt</th>\n",
       "      <th>enquiry_date</th>\n",
       "      <th>uid</th>\n",
       "      <th>type_Another type of loan</th>\n",
       "      <th>type_Car loan</th>\n",
       "      <th>type_Cash loan (non-earmarked)</th>\n",
       "      <th>type_Cash loans</th>\n",
       "      <th>type_Consumer credit</th>\n",
       "      <th>type_Credit card</th>\n",
       "      <th>type_Interbank credit</th>\n",
       "      <th>type_Loan for business development</th>\n",
       "      <th>type_Loan for purchase of shares (margin lending)</th>\n",
       "      <th>type_Loan for the purchase of equipment</th>\n",
       "      <th>type_Loan for working capital replenishment</th>\n",
       "      <th>type_Microloan</th>\n",
       "      <th>type_Mobile operator loan</th>\n",
       "      <th>type_Mortgage</th>\n",
       "      <th>type_Real estate loan</th>\n",
       "      <th>type_Revolving loans</th>\n",
       "      <th>type_Unknown type of loan</th>\n",
       "    </tr>\n",
       "  </thead>\n",
       "  <tbody>\n",
       "    <tr>\n",
       "      <th>0</th>\n",
       "      <td>0.336345</td>\n",
       "      <td>0.972322</td>\n",
       "      <td>AAA08065248</td>\n",
       "      <td>0</td>\n",
       "      <td>0</td>\n",
       "      <td>0</td>\n",
       "      <td>0</td>\n",
       "      <td>0</td>\n",
       "      <td>0</td>\n",
       "      <td>1</td>\n",
       "      <td>0</td>\n",
       "      <td>0</td>\n",
       "      <td>0</td>\n",
       "      <td>0</td>\n",
       "      <td>0</td>\n",
       "      <td>0</td>\n",
       "      <td>0</td>\n",
       "      <td>0</td>\n",
       "      <td>0</td>\n",
       "      <td>0</td>\n",
       "    </tr>\n",
       "    <tr>\n",
       "      <th>1</th>\n",
       "      <td>0.535855</td>\n",
       "      <td>0.947207</td>\n",
       "      <td>AAA08065248</td>\n",
       "      <td>0</td>\n",
       "      <td>0</td>\n",
       "      <td>0</td>\n",
       "      <td>0</td>\n",
       "      <td>0</td>\n",
       "      <td>0</td>\n",
       "      <td>0</td>\n",
       "      <td>0</td>\n",
       "      <td>0</td>\n",
       "      <td>0</td>\n",
       "      <td>0</td>\n",
       "      <td>0</td>\n",
       "      <td>1</td>\n",
       "      <td>0</td>\n",
       "      <td>0</td>\n",
       "      <td>0</td>\n",
       "      <td>0</td>\n",
       "    </tr>\n",
       "    <tr>\n",
       "      <th>2</th>\n",
       "      <td>0.070292</td>\n",
       "      <td>0.899539</td>\n",
       "      <td>AAA08065248</td>\n",
       "      <td>0</td>\n",
       "      <td>0</td>\n",
       "      <td>0</td>\n",
       "      <td>0</td>\n",
       "      <td>0</td>\n",
       "      <td>0</td>\n",
       "      <td>0</td>\n",
       "      <td>0</td>\n",
       "      <td>0</td>\n",
       "      <td>0</td>\n",
       "      <td>0</td>\n",
       "      <td>0</td>\n",
       "      <td>1</td>\n",
       "      <td>0</td>\n",
       "      <td>0</td>\n",
       "      <td>0</td>\n",
       "      <td>0</td>\n",
       "    </tr>\n",
       "    <tr>\n",
       "      <th>3</th>\n",
       "      <td>0.359648</td>\n",
       "      <td>0.776012</td>\n",
       "      <td>AAA08065248</td>\n",
       "      <td>0</td>\n",
       "      <td>0</td>\n",
       "      <td>0</td>\n",
       "      <td>0</td>\n",
       "      <td>0</td>\n",
       "      <td>0</td>\n",
       "      <td>1</td>\n",
       "      <td>0</td>\n",
       "      <td>0</td>\n",
       "      <td>0</td>\n",
       "      <td>0</td>\n",
       "      <td>0</td>\n",
       "      <td>0</td>\n",
       "      <td>0</td>\n",
       "      <td>0</td>\n",
       "      <td>0</td>\n",
       "      <td>0</td>\n",
       "    </tr>\n",
       "    <tr>\n",
       "      <th>4</th>\n",
       "      <td>0.453823</td>\n",
       "      <td>0.886212</td>\n",
       "      <td>AAA08065248</td>\n",
       "      <td>0</td>\n",
       "      <td>0</td>\n",
       "      <td>1</td>\n",
       "      <td>0</td>\n",
       "      <td>0</td>\n",
       "      <td>0</td>\n",
       "      <td>0</td>\n",
       "      <td>0</td>\n",
       "      <td>0</td>\n",
       "      <td>0</td>\n",
       "      <td>0</td>\n",
       "      <td>0</td>\n",
       "      <td>0</td>\n",
       "      <td>0</td>\n",
       "      <td>0</td>\n",
       "      <td>0</td>\n",
       "      <td>0</td>\n",
       "    </tr>\n",
       "  </tbody>\n",
       "</table>\n",
       "</div>"
      ],
      "text/plain": [
       "   enquiry_amt  enquiry_date          uid  type_Another type of loan  \\\n",
       "0     0.336345      0.972322  AAA08065248                          0   \n",
       "1     0.535855      0.947207  AAA08065248                          0   \n",
       "2     0.070292      0.899539  AAA08065248                          0   \n",
       "3     0.359648      0.776012  AAA08065248                          0   \n",
       "4     0.453823      0.886212  AAA08065248                          0   \n",
       "\n",
       "   type_Car loan  type_Cash loan (non-earmarked)  type_Cash loans  \\\n",
       "0              0                               0                0   \n",
       "1              0                               0                0   \n",
       "2              0                               0                0   \n",
       "3              0                               0                0   \n",
       "4              0                               1                0   \n",
       "\n",
       "   type_Consumer credit  type_Credit card  type_Interbank credit  \\\n",
       "0                     0                 0                      1   \n",
       "1                     0                 0                      0   \n",
       "2                     0                 0                      0   \n",
       "3                     0                 0                      1   \n",
       "4                     0                 0                      0   \n",
       "\n",
       "   type_Loan for business development  \\\n",
       "0                                   0   \n",
       "1                                   0   \n",
       "2                                   0   \n",
       "3                                   0   \n",
       "4                                   0   \n",
       "\n",
       "   type_Loan for purchase of shares (margin lending)  \\\n",
       "0                                                  0   \n",
       "1                                                  0   \n",
       "2                                                  0   \n",
       "3                                                  0   \n",
       "4                                                  0   \n",
       "\n",
       "   type_Loan for the purchase of equipment  \\\n",
       "0                                        0   \n",
       "1                                        0   \n",
       "2                                        0   \n",
       "3                                        0   \n",
       "4                                        0   \n",
       "\n",
       "   type_Loan for working capital replenishment  type_Microloan  \\\n",
       "0                                            0               0   \n",
       "1                                            0               0   \n",
       "2                                            0               0   \n",
       "3                                            0               0   \n",
       "4                                            0               0   \n",
       "\n",
       "   type_Mobile operator loan  type_Mortgage  type_Real estate loan  \\\n",
       "0                          0              0                      0   \n",
       "1                          1              0                      0   \n",
       "2                          1              0                      0   \n",
       "3                          0              0                      0   \n",
       "4                          0              0                      0   \n",
       "\n",
       "   type_Revolving loans  type_Unknown type of loan  \n",
       "0                     0                          0  \n",
       "1                     0                          0  \n",
       "2                     0                          0  \n",
       "3                     0                          0  \n",
       "4                     0                          0  "
      ]
     },
     "execution_count": 306,
     "metadata": {},
     "output_type": "execute_result"
    }
   ],
   "source": [
    "train_enquiry_df.head()"
   ]
  },
  {
   "cell_type": "code",
   "execution_count": 307,
   "id": "f7159e8c",
   "metadata": {},
   "outputs": [
    {
     "data": {
      "text/html": [
       "<div>\n",
       "<style scoped>\n",
       "    .dataframe tbody tr th:only-of-type {\n",
       "        vertical-align: middle;\n",
       "    }\n",
       "\n",
       "    .dataframe tbody tr th {\n",
       "        vertical-align: top;\n",
       "    }\n",
       "\n",
       "    .dataframe thead th {\n",
       "        text-align: right;\n",
       "    }\n",
       "</style>\n",
       "<table border=\"1\" class=\"dataframe\">\n",
       "  <thead>\n",
       "    <tr style=\"text-align: right;\">\n",
       "      <th></th>\n",
       "      <th>enquiry_amt</th>\n",
       "      <th>enquiry_date</th>\n",
       "      <th>uid</th>\n",
       "      <th>type_Another type of loan</th>\n",
       "      <th>type_Car loan</th>\n",
       "      <th>type_Cash loan (non-earmarked)</th>\n",
       "      <th>type_Cash loans</th>\n",
       "      <th>type_Consumer credit</th>\n",
       "      <th>type_Credit card</th>\n",
       "      <th>type_Interbank credit</th>\n",
       "      <th>type_Loan for business development</th>\n",
       "      <th>type_Loan for purchase of shares (margin lending)</th>\n",
       "      <th>type_Loan for the purchase of equipment</th>\n",
       "      <th>type_Loan for working capital replenishment</th>\n",
       "      <th>type_Microloan</th>\n",
       "      <th>type_Mobile operator loan</th>\n",
       "      <th>type_Mortgage</th>\n",
       "      <th>type_Real estate loan</th>\n",
       "      <th>type_Revolving loans</th>\n",
       "      <th>type_Unknown type of loan</th>\n",
       "    </tr>\n",
       "  </thead>\n",
       "  <tbody>\n",
       "    <tr>\n",
       "      <th>0</th>\n",
       "      <td>0.284558</td>\n",
       "      <td>0.989883</td>\n",
       "      <td>AAA02107680</td>\n",
       "      <td>0</td>\n",
       "      <td>1</td>\n",
       "      <td>0</td>\n",
       "      <td>0</td>\n",
       "      <td>0</td>\n",
       "      <td>0</td>\n",
       "      <td>0</td>\n",
       "      <td>0</td>\n",
       "      <td>0</td>\n",
       "      <td>0</td>\n",
       "      <td>0</td>\n",
       "      <td>0</td>\n",
       "      <td>0</td>\n",
       "      <td>0</td>\n",
       "      <td>0</td>\n",
       "      <td>0</td>\n",
       "      <td>0</td>\n",
       "    </tr>\n",
       "    <tr>\n",
       "      <th>1</th>\n",
       "      <td>0.346690</td>\n",
       "      <td>0.983493</td>\n",
       "      <td>AAA14437029</td>\n",
       "      <td>0</td>\n",
       "      <td>0</td>\n",
       "      <td>0</td>\n",
       "      <td>0</td>\n",
       "      <td>0</td>\n",
       "      <td>0</td>\n",
       "      <td>0</td>\n",
       "      <td>0</td>\n",
       "      <td>0</td>\n",
       "      <td>0</td>\n",
       "      <td>0</td>\n",
       "      <td>0</td>\n",
       "      <td>0</td>\n",
       "      <td>0</td>\n",
       "      <td>1</td>\n",
       "      <td>0</td>\n",
       "      <td>0</td>\n",
       "    </tr>\n",
       "    <tr>\n",
       "      <th>2</th>\n",
       "      <td>0.128226</td>\n",
       "      <td>0.707135</td>\n",
       "      <td>AAA14437029</td>\n",
       "      <td>0</td>\n",
       "      <td>0</td>\n",
       "      <td>0</td>\n",
       "      <td>0</td>\n",
       "      <td>0</td>\n",
       "      <td>0</td>\n",
       "      <td>0</td>\n",
       "      <td>0</td>\n",
       "      <td>0</td>\n",
       "      <td>0</td>\n",
       "      <td>1</td>\n",
       "      <td>0</td>\n",
       "      <td>0</td>\n",
       "      <td>0</td>\n",
       "      <td>0</td>\n",
       "      <td>0</td>\n",
       "      <td>0</td>\n",
       "    </tr>\n",
       "    <tr>\n",
       "      <th>3</th>\n",
       "      <td>0.234452</td>\n",
       "      <td>0.920660</td>\n",
       "      <td>AAA14437029</td>\n",
       "      <td>0</td>\n",
       "      <td>0</td>\n",
       "      <td>0</td>\n",
       "      <td>0</td>\n",
       "      <td>0</td>\n",
       "      <td>0</td>\n",
       "      <td>0</td>\n",
       "      <td>0</td>\n",
       "      <td>0</td>\n",
       "      <td>0</td>\n",
       "      <td>1</td>\n",
       "      <td>0</td>\n",
       "      <td>0</td>\n",
       "      <td>0</td>\n",
       "      <td>0</td>\n",
       "      <td>0</td>\n",
       "      <td>0</td>\n",
       "    </tr>\n",
       "    <tr>\n",
       "      <th>4</th>\n",
       "      <td>0.022001</td>\n",
       "      <td>0.835996</td>\n",
       "      <td>AAA14437029</td>\n",
       "      <td>0</td>\n",
       "      <td>1</td>\n",
       "      <td>0</td>\n",
       "      <td>0</td>\n",
       "      <td>0</td>\n",
       "      <td>0</td>\n",
       "      <td>0</td>\n",
       "      <td>0</td>\n",
       "      <td>0</td>\n",
       "      <td>0</td>\n",
       "      <td>0</td>\n",
       "      <td>0</td>\n",
       "      <td>0</td>\n",
       "      <td>0</td>\n",
       "      <td>0</td>\n",
       "      <td>0</td>\n",
       "      <td>0</td>\n",
       "    </tr>\n",
       "  </tbody>\n",
       "</table>\n",
       "</div>"
      ],
      "text/plain": [
       "   enquiry_amt  enquiry_date          uid  type_Another type of loan  \\\n",
       "0     0.284558      0.989883  AAA02107680                          0   \n",
       "1     0.346690      0.983493  AAA14437029                          0   \n",
       "2     0.128226      0.707135  AAA14437029                          0   \n",
       "3     0.234452      0.920660  AAA14437029                          0   \n",
       "4     0.022001      0.835996  AAA14437029                          0   \n",
       "\n",
       "   type_Car loan  type_Cash loan (non-earmarked)  type_Cash loans  \\\n",
       "0              1                               0                0   \n",
       "1              0                               0                0   \n",
       "2              0                               0                0   \n",
       "3              0                               0                0   \n",
       "4              1                               0                0   \n",
       "\n",
       "   type_Consumer credit  type_Credit card  type_Interbank credit  \\\n",
       "0                     0                 0                      0   \n",
       "1                     0                 0                      0   \n",
       "2                     0                 0                      0   \n",
       "3                     0                 0                      0   \n",
       "4                     0                 0                      0   \n",
       "\n",
       "   type_Loan for business development  \\\n",
       "0                                   0   \n",
       "1                                   0   \n",
       "2                                   0   \n",
       "3                                   0   \n",
       "4                                   0   \n",
       "\n",
       "   type_Loan for purchase of shares (margin lending)  \\\n",
       "0                                                  0   \n",
       "1                                                  0   \n",
       "2                                                  0   \n",
       "3                                                  0   \n",
       "4                                                  0   \n",
       "\n",
       "   type_Loan for the purchase of equipment  \\\n",
       "0                                        0   \n",
       "1                                        0   \n",
       "2                                        0   \n",
       "3                                        0   \n",
       "4                                        0   \n",
       "\n",
       "   type_Loan for working capital replenishment  type_Microloan  \\\n",
       "0                                            0               0   \n",
       "1                                            0               0   \n",
       "2                                            1               0   \n",
       "3                                            1               0   \n",
       "4                                            0               0   \n",
       "\n",
       "   type_Mobile operator loan  type_Mortgage  type_Real estate loan  \\\n",
       "0                          0              0                      0   \n",
       "1                          0              0                      1   \n",
       "2                          0              0                      0   \n",
       "3                          0              0                      0   \n",
       "4                          0              0                      0   \n",
       "\n",
       "   type_Revolving loans  type_Unknown type of loan  \n",
       "0                     0                          0  \n",
       "1                     0                          0  \n",
       "2                     0                          0  \n",
       "3                     0                          0  \n",
       "4                     0                          0  "
      ]
     },
     "execution_count": 307,
     "metadata": {},
     "output_type": "execute_result"
    }
   ],
   "source": [
    "test_enquiry_df.head()"
   ]
  },
  {
   "cell_type": "markdown",
   "id": "1f031d5b",
   "metadata": {},
   "source": [
    "### For Accounts dataframe"
   ]
  },
  {
   "cell_type": "code",
   "execution_count": 251,
   "id": "71ab70cb",
   "metadata": {},
   "outputs": [
    {
     "data": {
      "text/html": [
       "<div>\n",
       "<style scoped>\n",
       "    .dataframe tbody tr th:only-of-type {\n",
       "        vertical-align: middle;\n",
       "    }\n",
       "\n",
       "    .dataframe tbody tr th {\n",
       "        vertical-align: top;\n",
       "    }\n",
       "\n",
       "    .dataframe thead th {\n",
       "        text-align: right;\n",
       "    }\n",
       "</style>\n",
       "<table border=\"1\" class=\"dataframe\">\n",
       "  <thead>\n",
       "    <tr style=\"text-align: right;\">\n",
       "      <th></th>\n",
       "      <th>credit_type</th>\n",
       "      <th>loan_amount</th>\n",
       "      <th>amount_overdue</th>\n",
       "      <th>open_date</th>\n",
       "      <th>closed_date</th>\n",
       "      <th>payment_hist_string</th>\n",
       "      <th>uid</th>\n",
       "    </tr>\n",
       "  </thead>\n",
       "  <tbody>\n",
       "    <tr>\n",
       "      <th>0</th>\n",
       "      <td>Consumer credit</td>\n",
       "      <td>272745.000</td>\n",
       "      <td>0.0</td>\n",
       "      <td>2018-09-22</td>\n",
       "      <td>2020-02-22</td>\n",
       "      <td>0000000000000000000000100000000000000000000000...</td>\n",
       "      <td>AAA09044550</td>\n",
       "    </tr>\n",
       "    <tr>\n",
       "      <th>1</th>\n",
       "      <td>Consumer credit</td>\n",
       "      <td>4500.000</td>\n",
       "      <td>0.0</td>\n",
       "      <td>2018-03-08</td>\n",
       "      <td>2019-07-25</td>\n",
       "      <td>000000000000000014044000000000000000000000000000</td>\n",
       "      <td>AAA09044550</td>\n",
       "    </tr>\n",
       "    <tr>\n",
       "      <th>2</th>\n",
       "      <td>Credit card</td>\n",
       "      <td>80996.445</td>\n",
       "      <td>0.0</td>\n",
       "      <td>2020-06-29</td>\n",
       "      <td>NaN</td>\n",
       "      <td>000000000000000000</td>\n",
       "      <td>AAA10545297</td>\n",
       "    </tr>\n",
       "    <tr>\n",
       "      <th>3</th>\n",
       "      <td>Consumer credit</td>\n",
       "      <td>43771.500</td>\n",
       "      <td>0.0</td>\n",
       "      <td>2020-06-09</td>\n",
       "      <td>2020-09-09</td>\n",
       "      <td>000000000</td>\n",
       "      <td>AAA14112888</td>\n",
       "    </tr>\n",
       "    <tr>\n",
       "      <th>4</th>\n",
       "      <td>Credit card</td>\n",
       "      <td>10480.500</td>\n",
       "      <td>0.0</td>\n",
       "      <td>2014-09-10</td>\n",
       "      <td>NaN</td>\n",
       "      <td>0000000000000000000000000000000000000000000000...</td>\n",
       "      <td>AAA20326915</td>\n",
       "    </tr>\n",
       "  </tbody>\n",
       "</table>\n",
       "</div>"
      ],
      "text/plain": [
       "       credit_type  loan_amount  amount_overdue   open_date closed_date  \\\n",
       "0  Consumer credit   272745.000             0.0  2018-09-22  2020-02-22   \n",
       "1  Consumer credit     4500.000             0.0  2018-03-08  2019-07-25   \n",
       "2      Credit card    80996.445             0.0  2020-06-29         NaN   \n",
       "3  Consumer credit    43771.500             0.0  2020-06-09  2020-09-09   \n",
       "4      Credit card    10480.500             0.0  2014-09-10         NaN   \n",
       "\n",
       "                                 payment_hist_string          uid  \n",
       "0  0000000000000000000000100000000000000000000000...  AAA09044550  \n",
       "1   000000000000000014044000000000000000000000000000  AAA09044550  \n",
       "2                                 000000000000000000  AAA10545297  \n",
       "3                                          000000000  AAA14112888  \n",
       "4  0000000000000000000000000000000000000000000000...  AAA20326915  "
      ]
     },
     "execution_count": 251,
     "metadata": {},
     "output_type": "execute_result"
    }
   ],
   "source": [
    "train_accounts_df.head()"
   ]
  },
  {
   "cell_type": "code",
   "execution_count": 252,
   "id": "14e96c8a",
   "metadata": {},
   "outputs": [
    {
     "data": {
      "text/html": [
       "<div>\n",
       "<style scoped>\n",
       "    .dataframe tbody tr th:only-of-type {\n",
       "        vertical-align: middle;\n",
       "    }\n",
       "\n",
       "    .dataframe tbody tr th {\n",
       "        vertical-align: top;\n",
       "    }\n",
       "\n",
       "    .dataframe thead th {\n",
       "        text-align: right;\n",
       "    }\n",
       "</style>\n",
       "<table border=\"1\" class=\"dataframe\">\n",
       "  <thead>\n",
       "    <tr style=\"text-align: right;\">\n",
       "      <th></th>\n",
       "      <th>credit_type</th>\n",
       "      <th>loan_amount</th>\n",
       "      <th>amount_overdue</th>\n",
       "      <th>open_date</th>\n",
       "      <th>closed_date</th>\n",
       "      <th>payment_hist_string</th>\n",
       "      <th>uid</th>\n",
       "    </tr>\n",
       "  </thead>\n",
       "  <tbody>\n",
       "    <tr>\n",
       "      <th>0</th>\n",
       "      <td>Consumer credit</td>\n",
       "      <td>31630.50</td>\n",
       "      <td>0.0</td>\n",
       "      <td>2014-03-30</td>\n",
       "      <td>2014-11-29</td>\n",
       "      <td>000000000000000000000000</td>\n",
       "      <td>AAA14437029</td>\n",
       "    </tr>\n",
       "    <tr>\n",
       "      <th>1</th>\n",
       "      <td>Consumer credit</td>\n",
       "      <td>14613.39</td>\n",
       "      <td>0.0</td>\n",
       "      <td>2014-06-01</td>\n",
       "      <td>2014-11-03</td>\n",
       "      <td>000000000000000</td>\n",
       "      <td>AAA14437029</td>\n",
       "    </tr>\n",
       "    <tr>\n",
       "      <th>2</th>\n",
       "      <td>Credit card</td>\n",
       "      <td>54000.00</td>\n",
       "      <td>0.0</td>\n",
       "      <td>2015-12-13</td>\n",
       "      <td>2019-09-21</td>\n",
       "      <td>0000000000000000000000000000000000000000000000...</td>\n",
       "      <td>AAA14437029</td>\n",
       "    </tr>\n",
       "    <tr>\n",
       "      <th>3</th>\n",
       "      <td>Consumer credit</td>\n",
       "      <td>27076.50</td>\n",
       "      <td>0.0</td>\n",
       "      <td>2015-11-11</td>\n",
       "      <td>2016-11-24</td>\n",
       "      <td>000000000000000000000000000000000000</td>\n",
       "      <td>AAA14437029</td>\n",
       "    </tr>\n",
       "    <tr>\n",
       "      <th>4</th>\n",
       "      <td>Credit card</td>\n",
       "      <td>225000.00</td>\n",
       "      <td>0.0</td>\n",
       "      <td>2017-07-15</td>\n",
       "      <td>2019-11-14</td>\n",
       "      <td>0000000000000000000000000000000000000000000000...</td>\n",
       "      <td>AAA14437029</td>\n",
       "    </tr>\n",
       "  </tbody>\n",
       "</table>\n",
       "</div>"
      ],
      "text/plain": [
       "       credit_type  loan_amount  amount_overdue   open_date closed_date  \\\n",
       "0  Consumer credit     31630.50             0.0  2014-03-30  2014-11-29   \n",
       "1  Consumer credit     14613.39             0.0  2014-06-01  2014-11-03   \n",
       "2      Credit card     54000.00             0.0  2015-12-13  2019-09-21   \n",
       "3  Consumer credit     27076.50             0.0  2015-11-11  2016-11-24   \n",
       "4      Credit card    225000.00             0.0  2017-07-15  2019-11-14   \n",
       "\n",
       "                                 payment_hist_string          uid  \n",
       "0                           000000000000000000000000  AAA14437029  \n",
       "1                                    000000000000000  AAA14437029  \n",
       "2  0000000000000000000000000000000000000000000000...  AAA14437029  \n",
       "3               000000000000000000000000000000000000  AAA14437029  \n",
       "4  0000000000000000000000000000000000000000000000...  AAA14437029  "
      ]
     },
     "execution_count": 252,
     "metadata": {},
     "output_type": "execute_result"
    }
   ],
   "source": [
    "test_accounts_df.head()"
   ]
  },
  {
   "cell_type": "code",
   "execution_count": 253,
   "id": "3558bdc8",
   "metadata": {},
   "outputs": [
    {
     "data": {
      "text/plain": [
       "15"
      ]
     },
     "execution_count": 253,
     "metadata": {},
     "output_type": "execute_result"
    }
   ],
   "source": [
    "train_accounts_df.credit_type.unique().size"
   ]
  },
  {
   "cell_type": "code",
   "execution_count": 254,
   "id": "d7330e73",
   "metadata": {},
   "outputs": [
    {
     "data": {
      "text/plain": [
       "credit_type                 0\n",
       "loan_amount                 3\n",
       "amount_overdue              0\n",
       "open_date                   0\n",
       "closed_date            463035\n",
       "payment_hist_string         0\n",
       "uid                         0\n",
       "dtype: int64"
      ]
     },
     "execution_count": 254,
     "metadata": {},
     "output_type": "execute_result"
    }
   ],
   "source": [
    "# check for null values\n",
    "train_accounts_df.isna().sum(axis=0)"
   ]
  },
  {
   "cell_type": "code",
   "execution_count": 255,
   "id": "72fbe5f5",
   "metadata": {},
   "outputs": [
    {
     "data": {
      "text/plain": [
       "credit_type                0\n",
       "loan_amount                0\n",
       "amount_overdue             0\n",
       "open_date                  0\n",
       "closed_date            81636\n",
       "payment_hist_string        0\n",
       "uid                        0\n",
       "dtype: int64"
      ]
     },
     "execution_count": 255,
     "metadata": {},
     "output_type": "execute_result"
    }
   ],
   "source": [
    "# check for null values\n",
    "test_accounts_df.isna().sum(axis=0)"
   ]
  },
  {
   "cell_type": "code",
   "execution_count": 256,
   "id": "73b5a433",
   "metadata": {},
   "outputs": [
    {
     "data": {
      "text/html": [
       "<div>\n",
       "<style scoped>\n",
       "    .dataframe tbody tr th:only-of-type {\n",
       "        vertical-align: middle;\n",
       "    }\n",
       "\n",
       "    .dataframe tbody tr th {\n",
       "        vertical-align: top;\n",
       "    }\n",
       "\n",
       "    .dataframe thead th {\n",
       "        text-align: right;\n",
       "    }\n",
       "</style>\n",
       "<table border=\"1\" class=\"dataframe\">\n",
       "  <thead>\n",
       "    <tr style=\"text-align: right;\">\n",
       "      <th></th>\n",
       "      <th>credit_type</th>\n",
       "      <th>loan_amount</th>\n",
       "      <th>amount_overdue</th>\n",
       "      <th>open_date</th>\n",
       "      <th>closed_date</th>\n",
       "      <th>payment_hist_string</th>\n",
       "      <th>uid</th>\n",
       "    </tr>\n",
       "  </thead>\n",
       "  <tbody>\n",
       "    <tr>\n",
       "      <th>65605</th>\n",
       "      <td>Another type of loan</td>\n",
       "      <td>NaN</td>\n",
       "      <td>0.0</td>\n",
       "      <td>2021-01-01</td>\n",
       "      <td>2020-10-21</td>\n",
       "      <td></td>\n",
       "      <td>BJV01354901</td>\n",
       "    </tr>\n",
       "    <tr>\n",
       "      <th>149202</th>\n",
       "      <td>Another type of loan</td>\n",
       "      <td>NaN</td>\n",
       "      <td>0.0</td>\n",
       "      <td>2021-01-01</td>\n",
       "      <td>NaN</td>\n",
       "      <td></td>\n",
       "      <td>DCX71532515</td>\n",
       "    </tr>\n",
       "    <tr>\n",
       "      <th>613183</th>\n",
       "      <td>Another type of loan</td>\n",
       "      <td>NaN</td>\n",
       "      <td>0.0</td>\n",
       "      <td>2021-01-01</td>\n",
       "      <td>NaN</td>\n",
       "      <td></td>\n",
       "      <td>MVG95017452</td>\n",
       "    </tr>\n",
       "  </tbody>\n",
       "</table>\n",
       "</div>"
      ],
      "text/plain": [
       "                 credit_type  loan_amount  amount_overdue   open_date  \\\n",
       "65605   Another type of loan          NaN             0.0  2021-01-01   \n",
       "149202  Another type of loan          NaN             0.0  2021-01-01   \n",
       "613183  Another type of loan          NaN             0.0  2021-01-01   \n",
       "\n",
       "       closed_date payment_hist_string          uid  \n",
       "65605   2020-10-21                      BJV01354901  \n",
       "149202         NaN                      DCX71532515  \n",
       "613183         NaN                      MVG95017452  "
      ]
     },
     "execution_count": 256,
     "metadata": {},
     "output_type": "execute_result"
    }
   ],
   "source": [
    "# All rows with null values in loan_amount\n",
    "train_accounts_df[train_accounts_df.loan_amount.isna()]"
   ]
  },
  {
   "cell_type": "code",
   "execution_count": 257,
   "id": "c1be5a05",
   "metadata": {},
   "outputs": [],
   "source": [
    "# since the count of null values for loan amount in train_account_data is only three, \n",
    "# we can drop these three rows\n",
    "indices = train_accounts_df[train_accounts_df.loan_amount.isna()].index\n",
    "train_accounts_df.drop(labels=indices, inplace=True)"
   ]
  },
  {
   "cell_type": "code",
   "execution_count": 258,
   "id": "0f7a2f3f",
   "metadata": {},
   "outputs": [
    {
     "data": {
      "text/plain": [
       "credit_type                 0\n",
       "loan_amount                 0\n",
       "amount_overdue              0\n",
       "open_date                   0\n",
       "closed_date            463033\n",
       "payment_hist_string         0\n",
       "uid                         0\n",
       "dtype: int64"
      ]
     },
     "execution_count": 258,
     "metadata": {},
     "output_type": "execute_result"
    }
   ],
   "source": [
    "# check for null values\n",
    "train_accounts_df.isna().sum(axis=0)"
   ]
  },
  {
   "cell_type": "code",
   "execution_count": 259,
   "id": "37a89d2b",
   "metadata": {},
   "outputs": [
    {
     "data": {
      "text/plain": [
       "Consumer credit                                 908741\n",
       "Credit card                                     292422\n",
       "Car loan                                         20237\n",
       "Mortgage                                         13196\n",
       "Microloan                                         7766\n",
       "Loan for business development                     1466\n",
       "Another type of loan                               729\n",
       "Unknown type of loan                               374\n",
       "Loan for working capital replenishment             320\n",
       "Real estate loan                                    17\n",
       "Cash loan (non-earmarked)                           17\n",
       "Loan for the purchase of equipment                  16\n",
       "Loan for purchase of shares (margin lending)         4\n",
       "Interbank credit                                     1\n",
       "Mobile operator loan                                 1\n",
       "Name: credit_type, dtype: int64"
      ]
     },
     "execution_count": 259,
     "metadata": {},
     "output_type": "execute_result"
    }
   ],
   "source": [
    "train_accounts_df.credit_type.value_counts()"
   ]
  },
  {
   "cell_type": "code",
   "execution_count": 260,
   "id": "3c49788c",
   "metadata": {},
   "outputs": [
    {
     "data": {
      "text/plain": [
       "<AxesSubplot: >"
      ]
     },
     "execution_count": 260,
     "metadata": {},
     "output_type": "execute_result"
    },
    {
     "data": {
      "image/png": "[encoded data removed]",
      "text/plain": [
       "<Figure size 640x480 with 1 Axes>"
      ]
     },
     "metadata": {},
     "output_type": "display_data"
    }
   ],
   "source": [
    "n = len(train_accounts_df.credit_type.unique())\n",
    "train_accounts_df.credit_type.value_counts(dropna=False).plot(kind='bar', color=get_colors(n))"
   ]
  },
  {
   "cell_type": "code",
   "execution_count": 261,
   "id": "b5bb8c99",
   "metadata": {},
   "outputs": [
    {
     "data": {
      "text/plain": [
       "<AxesSubplot: >"
      ]
     },
     "execution_count": 261,
     "metadata": {},
     "output_type": "execute_result"
    },
    {
     "data": {
      "image/png": "[encoded data removed]",
      "text/plain": [
       "<Figure size 640x480 with 1 Axes>"
      ]
     },
     "metadata": {},
     "output_type": "display_data"
    }
   ],
   "source": [
    "test_accounts_df.credit_type.value_counts(dropna=False).plot(kind='bar', color=get_colors(n))"
   ]
  },
  {
   "cell_type": "markdown",
   "id": "0c1611c5",
   "metadata": {},
   "source": [
    "So most of the loans are `Consumer credit` and `Credit card`"
   ]
  },
  {
   "cell_type": "code",
   "execution_count": 262,
   "id": "806d08f1",
   "metadata": {},
   "outputs": [],
   "source": [
    "train_accounts_df.open_date = (pd.to_datetime(train_accounts_df.open_date) - datetime.datetime(1970,1,1)).dt.days"
   ]
  },
  {
   "cell_type": "code",
   "execution_count": 277,
   "id": "501c9455",
   "metadata": {},
   "outputs": [],
   "source": [
    "test_accounts_df.open_date = (pd.to_datetime(test_accounts_df.open_date) - datetime.datetime(1970,1,1)).dt.days"
   ]
  },
  {
   "cell_type": "code",
   "execution_count": 263,
   "id": "e2f0f2d2",
   "metadata": {},
   "outputs": [],
   "source": [
    "fn = lambda ele: 0 if pd.isna(ele) else 1\n",
    "train_accounts_df.closed_date = train_accounts_df.closed_date.apply(fn) "
   ]
  },
  {
   "cell_type": "code",
   "execution_count": 278,
   "id": "a97ba867",
   "metadata": {},
   "outputs": [],
   "source": [
    "test_accounts_df.closed_date = test_accounts_df.closed_date.apply(fn) "
   ]
  },
  {
   "cell_type": "code",
   "execution_count": 265,
   "id": "f4b46dad",
   "metadata": {},
   "outputs": [],
   "source": [
    "train_accounts_df = pd.get_dummies(train_accounts_df, columns = ['credit_type'], prefix='type')"
   ]
  },
  {
   "cell_type": "code",
   "execution_count": 279,
   "id": "8b621259",
   "metadata": {},
   "outputs": [],
   "source": [
    "test_accounts_df = pd.get_dummies(test_accounts_df, columns = ['credit_type'], prefix='type')"
   ]
  },
  {
   "cell_type": "code",
   "execution_count": 267,
   "id": "b02f83c4",
   "metadata": {},
   "outputs": [],
   "source": [
    "fn2 = lambda s: sum([s[i:i+3] != '000' for i in range(0, len(s), 3)])\n",
    "train_accounts_df.payment_hist_string = train_accounts_df.payment_hist_string.apply(fn2)"
   ]
  },
  {
   "cell_type": "code",
   "execution_count": 280,
   "id": "3aa3268f",
   "metadata": {},
   "outputs": [],
   "source": [
    "test_accounts_df.payment_hist_string = test_accounts_df.payment_hist_string.apply(fn2)"
   ]
  },
  {
   "cell_type": "code",
   "execution_count": null,
   "id": "ae1ea739",
   "metadata": {},
   "outputs": [],
   "source": [
    "train_accounts_df['loan_amount', 'open_date', 'payment_hist_string'] "
   ]
  },
  {
   "cell_type": "code",
   "execution_count": 297,
   "id": "0b59648c",
   "metadata": {},
   "outputs": [],
   "source": [
    "scaler = MinMaxScaler()"
   ]
  },
  {
   "cell_type": "code",
   "execution_count": 299,
   "id": "22bd6c3f",
   "metadata": {},
   "outputs": [],
   "source": [
    "train_accounts_df[['loan_amount', 'open_date', 'payment_hist_string']] = scaler.fit_transform(train_accounts_df[['loan_amount', 'open_date', 'payment_hist_string']])"
   ]
  },
  {
   "cell_type": "code",
   "execution_count": null,
   "id": "26bcaa14",
   "metadata": {},
   "outputs": [],
   "source": [
    "scaler = MinMaxScaler()"
   ]
  },
  {
   "cell_type": "code",
   "execution_count": 301,
   "id": "10ef15e6",
   "metadata": {},
   "outputs": [],
   "source": [
    "test_accounts_df[['loan_amount', 'open_date', 'payment_hist_string']] = scaler.fit_transform(test_accounts_df[['loan_amount', 'open_date', 'payment_hist_string']])"
   ]
  },
  {
   "cell_type": "code",
   "execution_count": 302,
   "id": "d2f270fd",
   "metadata": {},
   "outputs": [
    {
     "data": {
      "text/html": [
       "<div>\n",
       "<style scoped>\n",
       "    .dataframe tbody tr th:only-of-type {\n",
       "        vertical-align: middle;\n",
       "    }\n",
       "\n",
       "    .dataframe tbody tr th {\n",
       "        vertical-align: top;\n",
       "    }\n",
       "\n",
       "    .dataframe thead th {\n",
       "        text-align: right;\n",
       "    }\n",
       "</style>\n",
       "<table border=\"1\" class=\"dataframe\">\n",
       "  <thead>\n",
       "    <tr style=\"text-align: right;\">\n",
       "      <th></th>\n",
       "      <th>loan_amount</th>\n",
       "      <th>amount_overdue</th>\n",
       "      <th>open_date</th>\n",
       "      <th>closed_date</th>\n",
       "      <th>payment_hist_string</th>\n",
       "      <th>uid</th>\n",
       "      <th>type_Another type of loan</th>\n",
       "      <th>type_Car loan</th>\n",
       "      <th>type_Cash loan (non-earmarked)</th>\n",
       "      <th>type_Consumer credit</th>\n",
       "      <th>...</th>\n",
       "      <th>type_Interbank credit</th>\n",
       "      <th>type_Loan for business development</th>\n",
       "      <th>type_Loan for purchase of shares (margin lending)</th>\n",
       "      <th>type_Loan for the purchase of equipment</th>\n",
       "      <th>type_Loan for working capital replenishment</th>\n",
       "      <th>type_Microloan</th>\n",
       "      <th>type_Mobile operator loan</th>\n",
       "      <th>type_Mortgage</th>\n",
       "      <th>type_Real estate loan</th>\n",
       "      <th>type_Unknown type of loan</th>\n",
       "    </tr>\n",
       "  </thead>\n",
       "  <tbody>\n",
       "    <tr>\n",
       "      <th>0</th>\n",
       "      <td>0.000689</td>\n",
       "      <td>0.0</td>\n",
       "      <td>0.715264</td>\n",
       "      <td>1</td>\n",
       "      <td>0.012346</td>\n",
       "      <td>AAA09044550</td>\n",
       "      <td>0</td>\n",
       "      <td>0</td>\n",
       "      <td>0</td>\n",
       "      <td>1</td>\n",
       "      <td>...</td>\n",
       "      <td>0</td>\n",
       "      <td>0</td>\n",
       "      <td>0</td>\n",
       "      <td>0</td>\n",
       "      <td>0</td>\n",
       "      <td>0</td>\n",
       "      <td>0</td>\n",
       "      <td>0</td>\n",
       "      <td>0</td>\n",
       "      <td>0</td>\n",
       "    </tr>\n",
       "    <tr>\n",
       "      <th>1</th>\n",
       "      <td>0.000011</td>\n",
       "      <td>0.0</td>\n",
       "      <td>0.647502</td>\n",
       "      <td>1</td>\n",
       "      <td>0.024691</td>\n",
       "      <td>AAA09044550</td>\n",
       "      <td>0</td>\n",
       "      <td>0</td>\n",
       "      <td>0</td>\n",
       "      <td>1</td>\n",
       "      <td>...</td>\n",
       "      <td>0</td>\n",
       "      <td>0</td>\n",
       "      <td>0</td>\n",
       "      <td>0</td>\n",
       "      <td>0</td>\n",
       "      <td>0</td>\n",
       "      <td>0</td>\n",
       "      <td>0</td>\n",
       "      <td>0</td>\n",
       "      <td>0</td>\n",
       "    </tr>\n",
       "    <tr>\n",
       "      <th>2</th>\n",
       "      <td>0.000205</td>\n",
       "      <td>0.0</td>\n",
       "      <td>0.936345</td>\n",
       "      <td>0</td>\n",
       "      <td>0.000000</td>\n",
       "      <td>AAA10545297</td>\n",
       "      <td>0</td>\n",
       "      <td>0</td>\n",
       "      <td>0</td>\n",
       "      <td>0</td>\n",
       "      <td>...</td>\n",
       "      <td>0</td>\n",
       "      <td>0</td>\n",
       "      <td>0</td>\n",
       "      <td>0</td>\n",
       "      <td>0</td>\n",
       "      <td>0</td>\n",
       "      <td>0</td>\n",
       "      <td>0</td>\n",
       "      <td>0</td>\n",
       "      <td>0</td>\n",
       "    </tr>\n",
       "    <tr>\n",
       "      <th>3</th>\n",
       "      <td>0.000111</td>\n",
       "      <td>0.0</td>\n",
       "      <td>0.929500</td>\n",
       "      <td>1</td>\n",
       "      <td>0.000000</td>\n",
       "      <td>AAA14112888</td>\n",
       "      <td>0</td>\n",
       "      <td>0</td>\n",
       "      <td>0</td>\n",
       "      <td>1</td>\n",
       "      <td>...</td>\n",
       "      <td>0</td>\n",
       "      <td>0</td>\n",
       "      <td>0</td>\n",
       "      <td>0</td>\n",
       "      <td>0</td>\n",
       "      <td>0</td>\n",
       "      <td>0</td>\n",
       "      <td>0</td>\n",
       "      <td>0</td>\n",
       "      <td>0</td>\n",
       "    </tr>\n",
       "    <tr>\n",
       "      <th>4</th>\n",
       "      <td>0.000026</td>\n",
       "      <td>0.0</td>\n",
       "      <td>0.211157</td>\n",
       "      <td>0</td>\n",
       "      <td>0.382716</td>\n",
       "      <td>AAA20326915</td>\n",
       "      <td>0</td>\n",
       "      <td>0</td>\n",
       "      <td>0</td>\n",
       "      <td>0</td>\n",
       "      <td>...</td>\n",
       "      <td>0</td>\n",
       "      <td>0</td>\n",
       "      <td>0</td>\n",
       "      <td>0</td>\n",
       "      <td>0</td>\n",
       "      <td>0</td>\n",
       "      <td>0</td>\n",
       "      <td>0</td>\n",
       "      <td>0</td>\n",
       "      <td>0</td>\n",
       "    </tr>\n",
       "  </tbody>\n",
       "</table>\n",
       "<p>5 rows × 21 columns</p>\n",
       "</div>"
      ],
      "text/plain": [
       "   loan_amount  amount_overdue  open_date  closed_date  payment_hist_string  \\\n",
       "0     0.000689             0.0   0.715264            1             0.012346   \n",
       "1     0.000011             0.0   0.647502            1             0.024691   \n",
       "2     0.000205             0.0   0.936345            0             0.000000   \n",
       "3     0.000111             0.0   0.929500            1             0.000000   \n",
       "4     0.000026             0.0   0.211157            0             0.382716   \n",
       "\n",
       "           uid  type_Another type of loan  type_Car loan  \\\n",
       "0  AAA09044550                          0              0   \n",
       "1  AAA09044550                          0              0   \n",
       "2  AAA10545297                          0              0   \n",
       "3  AAA14112888                          0              0   \n",
       "4  AAA20326915                          0              0   \n",
       "\n",
       "   type_Cash loan (non-earmarked)  type_Consumer credit  ...  \\\n",
       "0                               0                     1  ...   \n",
       "1                               0                     1  ...   \n",
       "2                               0                     0  ...   \n",
       "3                               0                     1  ...   \n",
       "4                               0                     0  ...   \n",
       "\n",
       "   type_Interbank credit  type_Loan for business development  \\\n",
       "0                      0                                   0   \n",
       "1                      0                                   0   \n",
       "2                      0                                   0   \n",
       "3                      0                                   0   \n",
       "4                      0                                   0   \n",
       "\n",
       "   type_Loan for purchase of shares (margin lending)  \\\n",
       "0                                                  0   \n",
       "1                                                  0   \n",
       "2                                                  0   \n",
       "3                                                  0   \n",
       "4                                                  0   \n",
       "\n",
       "   type_Loan for the purchase of equipment  \\\n",
       "0                                        0   \n",
       "1                                        0   \n",
       "2                                        0   \n",
       "3                                        0   \n",
       "4                                        0   \n",
       "\n",
       "   type_Loan for working capital replenishment  type_Microloan  \\\n",
       "0                                            0               0   \n",
       "1                                            0               0   \n",
       "2                                            0               0   \n",
       "3                                            0               0   \n",
       "4                                            0               0   \n",
       "\n",
       "   type_Mobile operator loan  type_Mortgage  type_Real estate loan  \\\n",
       "0                          0              0                      0   \n",
       "1                          0              0                      0   \n",
       "2                          0              0                      0   \n",
       "3                          0              0                      0   \n",
       "4                          0              0                      0   \n",
       "\n",
       "   type_Unknown type of loan  \n",
       "0                          0  \n",
       "1                          0  \n",
       "2                          0  \n",
       "3                          0  \n",
       "4                          0  \n",
       "\n",
       "[5 rows x 21 columns]"
      ]
     },
     "execution_count": 302,
     "metadata": {},
     "output_type": "execute_result"
    }
   ],
   "source": [
    "train_accounts_df.head()"
   ]
  },
  {
   "cell_type": "code",
   "execution_count": 303,
   "id": "a3022c4d",
   "metadata": {},
   "outputs": [
    {
     "data": {
      "text/html": [
       "<div>\n",
       "<style scoped>\n",
       "    .dataframe tbody tr th:only-of-type {\n",
       "        vertical-align: middle;\n",
       "    }\n",
       "\n",
       "    .dataframe tbody tr th {\n",
       "        vertical-align: top;\n",
       "    }\n",
       "\n",
       "    .dataframe thead th {\n",
       "        text-align: right;\n",
       "    }\n",
       "</style>\n",
       "<table border=\"1\" class=\"dataframe\">\n",
       "  <thead>\n",
       "    <tr style=\"text-align: right;\">\n",
       "      <th></th>\n",
       "      <th>loan_amount</th>\n",
       "      <th>amount_overdue</th>\n",
       "      <th>open_date</th>\n",
       "      <th>closed_date</th>\n",
       "      <th>payment_hist_string</th>\n",
       "      <th>uid</th>\n",
       "      <th>type_Another type of loan</th>\n",
       "      <th>type_Car loan</th>\n",
       "      <th>type_Cash loan (non-earmarked)</th>\n",
       "      <th>type_Consumer credit</th>\n",
       "      <th>type_Credit card</th>\n",
       "      <th>type_Loan for business development</th>\n",
       "      <th>type_Loan for the purchase of equipment</th>\n",
       "      <th>type_Loan for working capital replenishment</th>\n",
       "      <th>type_Microloan</th>\n",
       "      <th>type_Mortgage</th>\n",
       "      <th>type_Real estate loan</th>\n",
       "      <th>type_Unknown type of loan</th>\n",
       "    </tr>\n",
       "  </thead>\n",
       "  <tbody>\n",
       "    <tr>\n",
       "      <th>0</th>\n",
       "      <td>0.000545</td>\n",
       "      <td>0.0</td>\n",
       "      <td>0.155084</td>\n",
       "      <td>1</td>\n",
       "      <td>0.00000</td>\n",
       "      <td>AAA14437029</td>\n",
       "      <td>0</td>\n",
       "      <td>0</td>\n",
       "      <td>0</td>\n",
       "      <td>1</td>\n",
       "      <td>0</td>\n",
       "      <td>0</td>\n",
       "      <td>0</td>\n",
       "      <td>0</td>\n",
       "      <td>0</td>\n",
       "      <td>0</td>\n",
       "      <td>0</td>\n",
       "      <td>0</td>\n",
       "    </tr>\n",
       "    <tr>\n",
       "      <th>1</th>\n",
       "      <td>0.000252</td>\n",
       "      <td>0.0</td>\n",
       "      <td>0.176652</td>\n",
       "      <td>1</td>\n",
       "      <td>0.00000</td>\n",
       "      <td>AAA14437029</td>\n",
       "      <td>0</td>\n",
       "      <td>0</td>\n",
       "      <td>0</td>\n",
       "      <td>1</td>\n",
       "      <td>0</td>\n",
       "      <td>0</td>\n",
       "      <td>0</td>\n",
       "      <td>0</td>\n",
       "      <td>0</td>\n",
       "      <td>0</td>\n",
       "      <td>0</td>\n",
       "      <td>0</td>\n",
       "    </tr>\n",
       "    <tr>\n",
       "      <th>2</th>\n",
       "      <td>0.000931</td>\n",
       "      <td>0.0</td>\n",
       "      <td>0.368367</td>\n",
       "      <td>1</td>\n",
       "      <td>0.00000</td>\n",
       "      <td>AAA14437029</td>\n",
       "      <td>0</td>\n",
       "      <td>0</td>\n",
       "      <td>0</td>\n",
       "      <td>0</td>\n",
       "      <td>1</td>\n",
       "      <td>0</td>\n",
       "      <td>0</td>\n",
       "      <td>0</td>\n",
       "      <td>0</td>\n",
       "      <td>0</td>\n",
       "      <td>0</td>\n",
       "      <td>0</td>\n",
       "    </tr>\n",
       "    <tr>\n",
       "      <th>3</th>\n",
       "      <td>0.000467</td>\n",
       "      <td>0.0</td>\n",
       "      <td>0.357412</td>\n",
       "      <td>1</td>\n",
       "      <td>0.00000</td>\n",
       "      <td>AAA14437029</td>\n",
       "      <td>0</td>\n",
       "      <td>0</td>\n",
       "      <td>0</td>\n",
       "      <td>1</td>\n",
       "      <td>0</td>\n",
       "      <td>0</td>\n",
       "      <td>0</td>\n",
       "      <td>0</td>\n",
       "      <td>0</td>\n",
       "      <td>0</td>\n",
       "      <td>0</td>\n",
       "      <td>0</td>\n",
       "    </tr>\n",
       "    <tr>\n",
       "      <th>4</th>\n",
       "      <td>0.003877</td>\n",
       "      <td>0.0</td>\n",
       "      <td>0.566929</td>\n",
       "      <td>1</td>\n",
       "      <td>0.15873</td>\n",
       "      <td>AAA14437029</td>\n",
       "      <td>0</td>\n",
       "      <td>0</td>\n",
       "      <td>0</td>\n",
       "      <td>0</td>\n",
       "      <td>1</td>\n",
       "      <td>0</td>\n",
       "      <td>0</td>\n",
       "      <td>0</td>\n",
       "      <td>0</td>\n",
       "      <td>0</td>\n",
       "      <td>0</td>\n",
       "      <td>0</td>\n",
       "    </tr>\n",
       "  </tbody>\n",
       "</table>\n",
       "</div>"
      ],
      "text/plain": [
       "   loan_amount  amount_overdue  open_date  closed_date  payment_hist_string  \\\n",
       "0     0.000545             0.0   0.155084            1              0.00000   \n",
       "1     0.000252             0.0   0.176652            1              0.00000   \n",
       "2     0.000931             0.0   0.368367            1              0.00000   \n",
       "3     0.000467             0.0   0.357412            1              0.00000   \n",
       "4     0.003877             0.0   0.566929            1              0.15873   \n",
       "\n",
       "           uid  type_Another type of loan  type_Car loan  \\\n",
       "0  AAA14437029                          0              0   \n",
       "1  AAA14437029                          0              0   \n",
       "2  AAA14437029                          0              0   \n",
       "3  AAA14437029                          0              0   \n",
       "4  AAA14437029                          0              0   \n",
       "\n",
       "   type_Cash loan (non-earmarked)  type_Consumer credit  type_Credit card  \\\n",
       "0                               0                     1                 0   \n",
       "1                               0                     1                 0   \n",
       "2                               0                     0                 1   \n",
       "3                               0                     1                 0   \n",
       "4                               0                     0                 1   \n",
       "\n",
       "   type_Loan for business development  \\\n",
       "0                                   0   \n",
       "1                                   0   \n",
       "2                                   0   \n",
       "3                                   0   \n",
       "4                                   0   \n",
       "\n",
       "   type_Loan for the purchase of equipment  \\\n",
       "0                                        0   \n",
       "1                                        0   \n",
       "2                                        0   \n",
       "3                                        0   \n",
       "4                                        0   \n",
       "\n",
       "   type_Loan for working capital replenishment  type_Microloan  type_Mortgage  \\\n",
       "0                                            0               0              0   \n",
       "1                                            0               0              0   \n",
       "2                                            0               0              0   \n",
       "3                                            0               0              0   \n",
       "4                                            0               0              0   \n",
       "\n",
       "   type_Real estate loan  type_Unknown type of loan  \n",
       "0                      0                          0  \n",
       "1                      0                          0  \n",
       "2                      0                          0  \n",
       "3                      0                          0  \n",
       "4                      0                          0  "
      ]
     },
     "execution_count": 303,
     "metadata": {},
     "output_type": "execute_result"
    }
   ],
   "source": [
    "test_accounts_df.head()"
   ]
  },
  {
   "cell_type": "markdown",
   "id": "570e73a0",
   "metadata": {},
   "source": [
    "### Joining Dataframes"
   ]
  },
  {
   "cell_type": "code",
   "execution_count": 344,
   "id": "d6009bb0",
   "metadata": {},
   "outputs": [
    {
     "data": {
      "text/plain": [
       "Index(['loan_amount', 'amount_overdue', 'open_date', 'closed_date',\n",
       "       'payment_hist_string', 'uid', 'type_Another type of loan',\n",
       "       'type_Car loan', 'type_Cash loan (non-earmarked)',\n",
       "       'type_Consumer credit', 'type_Credit card', 'type_Interbank credit',\n",
       "       'type_Loan for business development',\n",
       "       'type_Loan for purchase of shares (margin lending)',\n",
       "       'type_Loan for the purchase of equipment',\n",
       "       'type_Loan for working capital replenishment', 'type_Microloan',\n",
       "       'type_Mobile operator loan', 'type_Mortgage', 'type_Real estate loan',\n",
       "       'type_Unknown type of loan'],\n",
       "      dtype='object')"
      ]
     },
     "execution_count": 344,
     "metadata": {},
     "output_type": "execute_result"
    }
   ],
   "source": [
    "train_accounts_df.columns"
   ]
  },
  {
   "cell_type": "code",
   "execution_count": 345,
   "id": "027e67a9",
   "metadata": {},
   "outputs": [
    {
     "data": {
      "text/plain": [
       "Index(['loan_amount', 'amount_overdue', 'open_date', 'closed_date',\n",
       "       'payment_hist_string', 'uid', 'type_Another type of loan',\n",
       "       'type_Car loan', 'type_Cash loan (non-earmarked)',\n",
       "       'type_Consumer credit', 'type_Credit card',\n",
       "       'type_Loan for business development',\n",
       "       'type_Loan for the purchase of equipment',\n",
       "       'type_Loan for working capital replenishment', 'type_Microloan',\n",
       "       'type_Mortgage', 'type_Real estate loan', 'type_Unknown type of loan'],\n",
       "      dtype='object')"
      ]
     },
     "execution_count": 345,
     "metadata": {},
     "output_type": "execute_result"
    }
   ],
   "source": [
    "test_accounts_df.columns"
   ]
  },
  {
   "cell_type": "code",
   "execution_count": 347,
   "id": "e78d1bc1",
   "metadata": {},
   "outputs": [],
   "source": [
    "train_accounts_df.drop(['type_Interbank credit', 'type_Loan for purchase of shares (margin lending)', 'type_Mobile operator loan'], axis= 1, inplace=True)"
   ]
  },
  {
   "cell_type": "code",
   "execution_count": 349,
   "id": "bf3fe8c9",
   "metadata": {},
   "outputs": [],
   "source": [
    "train_df1 = pd.merge(train_enquiry_df, train_accounts_df, how='inner', on='uid')"
   ]
  },
  {
   "cell_type": "code",
   "execution_count": 350,
   "id": "825a4008",
   "metadata": {},
   "outputs": [],
   "source": [
    "train_final = pd.merge(train_df1, train_flag_df, how = 'inner', on='uid')"
   ]
  },
  {
   "cell_type": "code",
   "execution_count": 351,
   "id": "5f0227c9",
   "metadata": {},
   "outputs": [
    {
     "data": {
      "text/html": [
       "<div>\n",
       "<style scoped>\n",
       "    .dataframe tbody tr th:only-of-type {\n",
       "        vertical-align: middle;\n",
       "    }\n",
       "\n",
       "    .dataframe tbody tr th {\n",
       "        vertical-align: top;\n",
       "    }\n",
       "\n",
       "    .dataframe thead th {\n",
       "        text-align: right;\n",
       "    }\n",
       "</style>\n",
       "<table border=\"1\" class=\"dataframe\">\n",
       "  <thead>\n",
       "    <tr style=\"text-align: right;\">\n",
       "      <th></th>\n",
       "      <th>enquiry_amt</th>\n",
       "      <th>enquiry_date</th>\n",
       "      <th>uid</th>\n",
       "      <th>type_Another type of loan_x</th>\n",
       "      <th>type_Car loan_x</th>\n",
       "      <th>type_Cash loan (non-earmarked)_x</th>\n",
       "      <th>type_Cash loans_x</th>\n",
       "      <th>type_Consumer credit_x</th>\n",
       "      <th>type_Credit card_x</th>\n",
       "      <th>type_Interbank credit</th>\n",
       "      <th>...</th>\n",
       "      <th>type_Loan for business development_y</th>\n",
       "      <th>type_Loan for the purchase of equipment_y</th>\n",
       "      <th>type_Loan for working capital replenishment_y</th>\n",
       "      <th>type_Microloan_y</th>\n",
       "      <th>type_Mortgage_y</th>\n",
       "      <th>type_Real estate loan_y</th>\n",
       "      <th>type_Unknown type of loan_y</th>\n",
       "      <th>TARGET</th>\n",
       "      <th>type_Cash loans_y</th>\n",
       "      <th>type_Revolving loans_y</th>\n",
       "    </tr>\n",
       "  </thead>\n",
       "  <tbody>\n",
       "    <tr>\n",
       "      <th>0</th>\n",
       "      <td>0.238469</td>\n",
       "      <td>0.743209</td>\n",
       "      <td>AAA09044550</td>\n",
       "      <td>0</td>\n",
       "      <td>0</td>\n",
       "      <td>0</td>\n",
       "      <td>1</td>\n",
       "      <td>0</td>\n",
       "      <td>0</td>\n",
       "      <td>0</td>\n",
       "      <td>...</td>\n",
       "      <td>0</td>\n",
       "      <td>0</td>\n",
       "      <td>0</td>\n",
       "      <td>0</td>\n",
       "      <td>0</td>\n",
       "      <td>0</td>\n",
       "      <td>0</td>\n",
       "      <td>0</td>\n",
       "      <td>1</td>\n",
       "      <td>0</td>\n",
       "    </tr>\n",
       "    <tr>\n",
       "      <th>1</th>\n",
       "      <td>0.238469</td>\n",
       "      <td>0.743209</td>\n",
       "      <td>AAA09044550</td>\n",
       "      <td>0</td>\n",
       "      <td>0</td>\n",
       "      <td>0</td>\n",
       "      <td>1</td>\n",
       "      <td>0</td>\n",
       "      <td>0</td>\n",
       "      <td>0</td>\n",
       "      <td>...</td>\n",
       "      <td>0</td>\n",
       "      <td>0</td>\n",
       "      <td>0</td>\n",
       "      <td>0</td>\n",
       "      <td>0</td>\n",
       "      <td>0</td>\n",
       "      <td>0</td>\n",
       "      <td>0</td>\n",
       "      <td>1</td>\n",
       "      <td>0</td>\n",
       "    </tr>\n",
       "    <tr>\n",
       "      <th>2</th>\n",
       "      <td>0.392781</td>\n",
       "      <td>0.781138</td>\n",
       "      <td>AAA09044550</td>\n",
       "      <td>0</td>\n",
       "      <td>0</td>\n",
       "      <td>0</td>\n",
       "      <td>0</td>\n",
       "      <td>0</td>\n",
       "      <td>0</td>\n",
       "      <td>1</td>\n",
       "      <td>...</td>\n",
       "      <td>0</td>\n",
       "      <td>0</td>\n",
       "      <td>0</td>\n",
       "      <td>0</td>\n",
       "      <td>0</td>\n",
       "      <td>0</td>\n",
       "      <td>0</td>\n",
       "      <td>0</td>\n",
       "      <td>1</td>\n",
       "      <td>0</td>\n",
       "    </tr>\n",
       "    <tr>\n",
       "      <th>3</th>\n",
       "      <td>0.392781</td>\n",
       "      <td>0.781138</td>\n",
       "      <td>AAA09044550</td>\n",
       "      <td>0</td>\n",
       "      <td>0</td>\n",
       "      <td>0</td>\n",
       "      <td>0</td>\n",
       "      <td>0</td>\n",
       "      <td>0</td>\n",
       "      <td>1</td>\n",
       "      <td>...</td>\n",
       "      <td>0</td>\n",
       "      <td>0</td>\n",
       "      <td>0</td>\n",
       "      <td>0</td>\n",
       "      <td>0</td>\n",
       "      <td>0</td>\n",
       "      <td>0</td>\n",
       "      <td>0</td>\n",
       "      <td>1</td>\n",
       "      <td>0</td>\n",
       "    </tr>\n",
       "    <tr>\n",
       "      <th>4</th>\n",
       "      <td>0.252497</td>\n",
       "      <td>0.900564</td>\n",
       "      <td>AAA09044550</td>\n",
       "      <td>0</td>\n",
       "      <td>1</td>\n",
       "      <td>0</td>\n",
       "      <td>0</td>\n",
       "      <td>0</td>\n",
       "      <td>0</td>\n",
       "      <td>0</td>\n",
       "      <td>...</td>\n",
       "      <td>0</td>\n",
       "      <td>0</td>\n",
       "      <td>0</td>\n",
       "      <td>0</td>\n",
       "      <td>0</td>\n",
       "      <td>0</td>\n",
       "      <td>0</td>\n",
       "      <td>0</td>\n",
       "      <td>1</td>\n",
       "      <td>0</td>\n",
       "    </tr>\n",
       "  </tbody>\n",
       "</table>\n",
       "<p>5 rows × 40 columns</p>\n",
       "</div>"
      ],
      "text/plain": [
       "   enquiry_amt  enquiry_date          uid  type_Another type of loan_x  \\\n",
       "0     0.238469      0.743209  AAA09044550                            0   \n",
       "1     0.238469      0.743209  AAA09044550                            0   \n",
       "2     0.392781      0.781138  AAA09044550                            0   \n",
       "3     0.392781      0.781138  AAA09044550                            0   \n",
       "4     0.252497      0.900564  AAA09044550                            0   \n",
       "\n",
       "   type_Car loan_x  type_Cash loan (non-earmarked)_x  type_Cash loans_x  \\\n",
       "0                0                                 0                  1   \n",
       "1                0                                 0                  1   \n",
       "2                0                                 0                  0   \n",
       "3                0                                 0                  0   \n",
       "4                1                                 0                  0   \n",
       "\n",
       "   type_Consumer credit_x  type_Credit card_x  type_Interbank credit  ...  \\\n",
       "0                       0                   0                      0  ...   \n",
       "1                       0                   0                      0  ...   \n",
       "2                       0                   0                      1  ...   \n",
       "3                       0                   0                      1  ...   \n",
       "4                       0                   0                      0  ...   \n",
       "\n",
       "   type_Loan for business development_y  \\\n",
       "0                                     0   \n",
       "1                                     0   \n",
       "2                                     0   \n",
       "3                                     0   \n",
       "4                                     0   \n",
       "\n",
       "   type_Loan for the purchase of equipment_y  \\\n",
       "0                                          0   \n",
       "1                                          0   \n",
       "2                                          0   \n",
       "3                                          0   \n",
       "4                                          0   \n",
       "\n",
       "   type_Loan for working capital replenishment_y  type_Microloan_y  \\\n",
       "0                                              0                 0   \n",
       "1                                              0                 0   \n",
       "2                                              0                 0   \n",
       "3                                              0                 0   \n",
       "4                                              0                 0   \n",
       "\n",
       "   type_Mortgage_y  type_Real estate loan_y  type_Unknown type of loan_y  \\\n",
       "0                0                        0                            0   \n",
       "1                0                        0                            0   \n",
       "2                0                        0                            0   \n",
       "3                0                        0                            0   \n",
       "4                0                        0                            0   \n",
       "\n",
       "   TARGET  type_Cash loans_y  type_Revolving loans_y  \n",
       "0       0                  1                       0  \n",
       "1       0                  1                       0  \n",
       "2       0                  1                       0  \n",
       "3       0                  1                       0  \n",
       "4       0                  1                       0  \n",
       "\n",
       "[5 rows x 40 columns]"
      ]
     },
     "execution_count": 351,
     "metadata": {},
     "output_type": "execute_result"
    }
   ],
   "source": [
    "train_final.head()"
   ]
  },
  {
   "cell_type": "code",
   "execution_count": 354,
   "id": "a8dde60b",
   "metadata": {},
   "outputs": [],
   "source": [
    "test_df1 = pd.merge(test_enquiry_df, test_accounts_df, how='inner', on='uid')"
   ]
  },
  {
   "cell_type": "code",
   "execution_count": 355,
   "id": "a28774ca",
   "metadata": {},
   "outputs": [],
   "source": [
    "test_final = pd.merge(test_df1, test_flag_df, how = 'inner', on='uid')"
   ]
  },
  {
   "cell_type": "code",
   "execution_count": 356,
   "id": "b162e254",
   "metadata": {},
   "outputs": [
    {
     "data": {
      "text/html": [
       "<div>\n",
       "<style scoped>\n",
       "    .dataframe tbody tr th:only-of-type {\n",
       "        vertical-align: middle;\n",
       "    }\n",
       "\n",
       "    .dataframe tbody tr th {\n",
       "        vertical-align: top;\n",
       "    }\n",
       "\n",
       "    .dataframe thead th {\n",
       "        text-align: right;\n",
       "    }\n",
       "</style>\n",
       "<table border=\"1\" class=\"dataframe\">\n",
       "  <thead>\n",
       "    <tr style=\"text-align: right;\">\n",
       "      <th></th>\n",
       "      <th>enquiry_amt</th>\n",
       "      <th>enquiry_date</th>\n",
       "      <th>uid</th>\n",
       "      <th>type_Another type of loan_x</th>\n",
       "      <th>type_Car loan_x</th>\n",
       "      <th>type_Cash loan (non-earmarked)_x</th>\n",
       "      <th>type_Cash loans_x</th>\n",
       "      <th>type_Consumer credit_x</th>\n",
       "      <th>type_Credit card_x</th>\n",
       "      <th>type_Interbank credit</th>\n",
       "      <th>...</th>\n",
       "      <th>type_Credit card_y</th>\n",
       "      <th>type_Loan for business development_y</th>\n",
       "      <th>type_Loan for the purchase of equipment_y</th>\n",
       "      <th>type_Loan for working capital replenishment_y</th>\n",
       "      <th>type_Microloan_y</th>\n",
       "      <th>type_Mortgage_y</th>\n",
       "      <th>type_Real estate loan_y</th>\n",
       "      <th>type_Unknown type of loan_y</th>\n",
       "      <th>type_Cash loans_y</th>\n",
       "      <th>type_Revolving loans_y</th>\n",
       "    </tr>\n",
       "  </thead>\n",
       "  <tbody>\n",
       "    <tr>\n",
       "      <th>0</th>\n",
       "      <td>0.34669</td>\n",
       "      <td>0.983493</td>\n",
       "      <td>AAA14437029</td>\n",
       "      <td>0</td>\n",
       "      <td>0</td>\n",
       "      <td>0</td>\n",
       "      <td>0</td>\n",
       "      <td>0</td>\n",
       "      <td>0</td>\n",
       "      <td>0</td>\n",
       "      <td>...</td>\n",
       "      <td>0</td>\n",
       "      <td>0</td>\n",
       "      <td>0</td>\n",
       "      <td>0</td>\n",
       "      <td>0</td>\n",
       "      <td>0</td>\n",
       "      <td>0</td>\n",
       "      <td>0</td>\n",
       "      <td>1</td>\n",
       "      <td>0</td>\n",
       "    </tr>\n",
       "    <tr>\n",
       "      <th>1</th>\n",
       "      <td>0.34669</td>\n",
       "      <td>0.983493</td>\n",
       "      <td>AAA14437029</td>\n",
       "      <td>0</td>\n",
       "      <td>0</td>\n",
       "      <td>0</td>\n",
       "      <td>0</td>\n",
       "      <td>0</td>\n",
       "      <td>0</td>\n",
       "      <td>0</td>\n",
       "      <td>...</td>\n",
       "      <td>0</td>\n",
       "      <td>0</td>\n",
       "      <td>0</td>\n",
       "      <td>0</td>\n",
       "      <td>0</td>\n",
       "      <td>0</td>\n",
       "      <td>0</td>\n",
       "      <td>0</td>\n",
       "      <td>1</td>\n",
       "      <td>0</td>\n",
       "    </tr>\n",
       "    <tr>\n",
       "      <th>2</th>\n",
       "      <td>0.34669</td>\n",
       "      <td>0.983493</td>\n",
       "      <td>AAA14437029</td>\n",
       "      <td>0</td>\n",
       "      <td>0</td>\n",
       "      <td>0</td>\n",
       "      <td>0</td>\n",
       "      <td>0</td>\n",
       "      <td>0</td>\n",
       "      <td>0</td>\n",
       "      <td>...</td>\n",
       "      <td>1</td>\n",
       "      <td>0</td>\n",
       "      <td>0</td>\n",
       "      <td>0</td>\n",
       "      <td>0</td>\n",
       "      <td>0</td>\n",
       "      <td>0</td>\n",
       "      <td>0</td>\n",
       "      <td>1</td>\n",
       "      <td>0</td>\n",
       "    </tr>\n",
       "    <tr>\n",
       "      <th>3</th>\n",
       "      <td>0.34669</td>\n",
       "      <td>0.983493</td>\n",
       "      <td>AAA14437029</td>\n",
       "      <td>0</td>\n",
       "      <td>0</td>\n",
       "      <td>0</td>\n",
       "      <td>0</td>\n",
       "      <td>0</td>\n",
       "      <td>0</td>\n",
       "      <td>0</td>\n",
       "      <td>...</td>\n",
       "      <td>0</td>\n",
       "      <td>0</td>\n",
       "      <td>0</td>\n",
       "      <td>0</td>\n",
       "      <td>0</td>\n",
       "      <td>0</td>\n",
       "      <td>0</td>\n",
       "      <td>0</td>\n",
       "      <td>1</td>\n",
       "      <td>0</td>\n",
       "    </tr>\n",
       "    <tr>\n",
       "      <th>4</th>\n",
       "      <td>0.34669</td>\n",
       "      <td>0.983493</td>\n",
       "      <td>AAA14437029</td>\n",
       "      <td>0</td>\n",
       "      <td>0</td>\n",
       "      <td>0</td>\n",
       "      <td>0</td>\n",
       "      <td>0</td>\n",
       "      <td>0</td>\n",
       "      <td>0</td>\n",
       "      <td>...</td>\n",
       "      <td>1</td>\n",
       "      <td>0</td>\n",
       "      <td>0</td>\n",
       "      <td>0</td>\n",
       "      <td>0</td>\n",
       "      <td>0</td>\n",
       "      <td>0</td>\n",
       "      <td>0</td>\n",
       "      <td>1</td>\n",
       "      <td>0</td>\n",
       "    </tr>\n",
       "  </tbody>\n",
       "</table>\n",
       "<p>5 rows × 39 columns</p>\n",
       "</div>"
      ],
      "text/plain": [
       "   enquiry_amt  enquiry_date          uid  type_Another type of loan_x  \\\n",
       "0      0.34669      0.983493  AAA14437029                            0   \n",
       "1      0.34669      0.983493  AAA14437029                            0   \n",
       "2      0.34669      0.983493  AAA14437029                            0   \n",
       "3      0.34669      0.983493  AAA14437029                            0   \n",
       "4      0.34669      0.983493  AAA14437029                            0   \n",
       "\n",
       "   type_Car loan_x  type_Cash loan (non-earmarked)_x  type_Cash loans_x  \\\n",
       "0                0                                 0                  0   \n",
       "1                0                                 0                  0   \n",
       "2                0                                 0                  0   \n",
       "3                0                                 0                  0   \n",
       "4                0                                 0                  0   \n",
       "\n",
       "   type_Consumer credit_x  type_Credit card_x  type_Interbank credit  ...  \\\n",
       "0                       0                   0                      0  ...   \n",
       "1                       0                   0                      0  ...   \n",
       "2                       0                   0                      0  ...   \n",
       "3                       0                   0                      0  ...   \n",
       "4                       0                   0                      0  ...   \n",
       "\n",
       "   type_Credit card_y  type_Loan for business development_y  \\\n",
       "0                   0                                     0   \n",
       "1                   0                                     0   \n",
       "2                   1                                     0   \n",
       "3                   0                                     0   \n",
       "4                   1                                     0   \n",
       "\n",
       "   type_Loan for the purchase of equipment_y  \\\n",
       "0                                          0   \n",
       "1                                          0   \n",
       "2                                          0   \n",
       "3                                          0   \n",
       "4                                          0   \n",
       "\n",
       "   type_Loan for working capital replenishment_y  type_Microloan_y  \\\n",
       "0                                              0                 0   \n",
       "1                                              0                 0   \n",
       "2                                              0                 0   \n",
       "3                                              0                 0   \n",
       "4                                              0                 0   \n",
       "\n",
       "   type_Mortgage_y  type_Real estate loan_y  type_Unknown type of loan_y  \\\n",
       "0                0                        0                            0   \n",
       "1                0                        0                            0   \n",
       "2                0                        0                            0   \n",
       "3                0                        0                            0   \n",
       "4                0                        0                            0   \n",
       "\n",
       "   type_Cash loans_y  type_Revolving loans_y  \n",
       "0                  1                       0  \n",
       "1                  1                       0  \n",
       "2                  1                       0  \n",
       "3                  1                       0  \n",
       "4                  1                       0  \n",
       "\n",
       "[5 rows x 39 columns]"
      ]
     },
     "execution_count": 356,
     "metadata": {},
     "output_type": "execute_result"
    }
   ],
   "source": [
    "test_final.head()"
   ]
  },
  {
   "cell_type": "code",
   "execution_count": 352,
   "id": "ba7da7c2",
   "metadata": {},
   "outputs": [],
   "source": [
    "y = train_final.pop('TARGET')"
   ]
  },
  {
   "cell_type": "code",
   "execution_count": 353,
   "id": "0e8c45b1",
   "metadata": {},
   "outputs": [],
   "source": [
    "train_uid = train_final.pop('uid')"
   ]
  },
  {
   "cell_type": "code",
   "execution_count": 357,
   "id": "b923a729",
   "metadata": {},
   "outputs": [],
   "source": [
    "test_uid = test_final.pop('uid')"
   ]
  },
  {
   "cell_type": "code",
   "execution_count": 358,
   "id": "6a9ac954",
   "metadata": {},
   "outputs": [],
   "source": [
    "clf = RandomForestClassifier(max_depth=2, random_state=2)"
   ]
  },
  {
   "cell_type": "code",
   "execution_count": 359,
   "id": "ca811c63",
   "metadata": {},
   "outputs": [
    {
     "data": {
      "text/html": [
       "<style>#sk-container-id-2 {color: black;background-color: white;}#sk-container-id-2 pre{padding: 0;}#sk-container-id-2 div.sk-toggleable {background-color: white;}#sk-container-id-2 label.sk-toggleable__label {cursor: pointer;display: block;width: 100%;margin-bottom: 0;padding: 0.3em;box-sizing: border-box;text-align: center;}#sk-container-id-2 label.sk-toggleable__label-arrow:before {content: \"▸\";float: left;margin-right: 0.25em;color: #696969;}#sk-container-id-2 label.sk-toggleable__label-arrow:hover:before {color: black;}#sk-container-id-2 div.sk-estimator:hover label.sk-toggleable__label-arrow:before {color: black;}#sk-container-id-2 div.sk-toggleable__content {max-height: 0;max-width: 0;overflow: hidden;text-align: left;background-color: #f0f8ff;}#sk-container-id-2 div.sk-toggleable__content pre {margin: 0.2em;color: black;border-radius: 0.25em;background-color: #f0f8ff;}#sk-container-id-2 input.sk-toggleable__control:checked~div.sk-toggleable__content {max-height: 200px;max-width: 100%;overflow: auto;}#sk-container-id-2 input.sk-toggleable__control:checked~label.sk-toggleable__label-arrow:before {content: \"▾\";}#sk-container-id-2 div.sk-estimator input.sk-toggleable__control:checked~label.sk-toggleable__label {background-color: #d4ebff;}#sk-container-id-2 div.sk-label input.sk-toggleable__control:checked~label.sk-toggleable__label {background-color: #d4ebff;}#sk-container-id-2 input.sk-hidden--visually {border: 0;clip: rect(1px 1px 1px 1px);clip: rect(1px, 1px, 1px, 1px);height: 1px;margin: -1px;overflow: hidden;padding: 0;position: absolute;width: 1px;}#sk-container-id-2 div.sk-estimator {font-family: monospace;background-color: #f0f8ff;border: 1px dotted black;border-radius: 0.25em;box-sizing: border-box;margin-bottom: 0.5em;}#sk-container-id-2 div.sk-estimator:hover {background-color: #d4ebff;}#sk-container-id-2 div.sk-parallel-item::after {content: \"\";width: 100%;border-bottom: 1px solid gray;flex-grow: 1;}#sk-container-id-2 div.sk-label:hover label.sk-toggleable__label {background-color: #d4ebff;}#sk-container-id-2 div.sk-serial::before {content: \"\";position: absolute;border-left: 1px solid gray;box-sizing: border-box;top: 0;bottom: 0;left: 50%;z-index: 0;}#sk-container-id-2 div.sk-serial {display: flex;flex-direction: column;align-items: center;background-color: white;padding-right: 0.2em;padding-left: 0.2em;position: relative;}#sk-container-id-2 div.sk-item {position: relative;z-index: 1;}#sk-container-id-2 div.sk-parallel {display: flex;align-items: stretch;justify-content: center;background-color: white;position: relative;}#sk-container-id-2 div.sk-item::before, #sk-container-id-2 div.sk-parallel-item::before {content: \"\";position: absolute;border-left: 1px solid gray;box-sizing: border-box;top: 0;bottom: 0;left: 50%;z-index: -1;}#sk-container-id-2 div.sk-parallel-item {display: flex;flex-direction: column;z-index: 1;position: relative;background-color: white;}#sk-container-id-2 div.sk-parallel-item:first-child::after {align-self: flex-end;width: 50%;}#sk-container-id-2 div.sk-parallel-item:last-child::after {align-self: flex-start;width: 50%;}#sk-container-id-2 div.sk-parallel-item:only-child::after {width: 0;}#sk-container-id-2 div.sk-dashed-wrapped {border: 1px dashed gray;margin: 0 0.4em 0.5em 0.4em;box-sizing: border-box;padding-bottom: 0.4em;background-color: white;}#sk-container-id-2 div.sk-label label {font-family: monospace;font-weight: bold;display: inline-block;line-height: 1.2em;}#sk-container-id-2 div.sk-label-container {text-align: center;}#sk-container-id-2 div.sk-container {/* jupyter's `normalize.less` sets `[hidden] { display: none; }` but bootstrap.min.css set `[hidden] { display: none !important; }` so we also need the `!important` here to be able to override the default hidden behavior on the sphinx rendered scikit-learn.org. See: https://github.com/scikit-learn/scikit-learn/issues/21755 */display: inline-block !important;position: relative;}#sk-container-id-2 div.sk-text-repr-fallback {display: none;}</style><div id=\"sk-container-id-2\" class=\"sk-top-container\"><div class=\"sk-text-repr-fallback\"><pre>RandomForestClassifier(max_depth=2, random_state=2)</pre><b>In a Jupyter environment, please rerun this cell to show the HTML representation or trust the notebook. <br />On GitHub, the HTML representation is unable to render, please try loading this page with nbviewer.org.</b></div><div class=\"sk-container\" hidden><div class=\"sk-item\"><div class=\"sk-estimator sk-toggleable\"><input class=\"sk-toggleable__control sk-hidden--visually\" id=\"sk-estimator-id-2\" type=\"checkbox\" checked><label for=\"sk-estimator-id-2\" class=\"sk-toggleable__label sk-toggleable__label-arrow\">RandomForestClassifier</label><div class=\"sk-toggleable__content\"><pre>RandomForestClassifier(max_depth=2, random_state=2)</pre></div></div></div></div></div>"
      ],
      "text/plain": [
       "RandomForestClassifier(max_depth=2, random_state=2)"
      ]
     },
     "execution_count": 359,
     "metadata": {},
     "output_type": "execute_result"
    }
   ],
   "source": [
    "clf.fit(train_final, y)"
   ]
  },
  {
   "cell_type": "code",
   "execution_count": 364,
   "id": "5daf053e",
   "metadata": {},
   "outputs": [],
   "source": [
    "test_preds = clf.predict(test_final)"
   ]
  },
  {
   "cell_type": "code",
   "execution_count": 368,
   "id": "3e140144",
   "metadata": {},
   "outputs": [],
   "source": [
    "test_preds = pd.Series(test_preds)"
   ]
  },
  {
   "cell_type": "code",
   "execution_count": 369,
   "id": "a01aca1e",
   "metadata": {},
   "outputs": [],
   "source": [
    "final_data = {'uid': test_uid, 'pred': test_preds}"
   ]
  },
  {
   "cell_type": "code",
   "execution_count": 370,
   "id": "01ff2174",
   "metadata": {},
   "outputs": [],
   "source": [
    "final_df = pd.concat(final_data, axis=1)"
   ]
  },
  {
   "cell_type": "code",
   "execution_count": 375,
   "id": "fc2516f9",
   "metadata": {},
   "outputs": [],
   "source": [
    "final_df.to_csv('data/final_submission/anurag_agarwal.csv', index=False)"
   ]
  },
  {
   "cell_type": "code",
   "execution_count": null,
   "id": "b0e128b3",
   "metadata": {},
   "outputs": [],
   "source": []
  }
 ],
 "metadata": {
  "kernelspec": {
   "display_name": "Python 3 (ipykernel)",
   "language": "python",
   "name": "python3"
  },
  "language_info": {
   "codemirror_mode": {
    "name": "ipython",
    "version": 3
   },
   "file_extension": ".py",
   "mimetype": "text/x-python",
   "name": "python",
   "nbconvert_exporter": "python",
   "pygments_lexer": "ipython3",
   "version": "3.9.13"
  }
 },
 "nbformat": 4,
 "nbformat_minor": 5
}
